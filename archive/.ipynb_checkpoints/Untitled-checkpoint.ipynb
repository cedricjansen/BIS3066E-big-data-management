{
 "cells": [
  {
   "cell_type": "markdown",
   "metadata": {},
   "source": [
    "# Big Data Management Workshop II\n",
    "## Team A - Analysis of current cenergy consumption and production as well as future predictions\n",
    "\n",
    "## 1. Questions\n",
    "### 1.1 Descriptive questions:\n",
    "#### 1.1.1 Energy production:\n",
    "What are the current top 5 producing countries (total/per capita) of biofuel / coal / gas / hydro/ nuclear /oil / solar / wind?\n",
    "Which countries produce the most energy (total / per capita) currently?\n",
    "\n",
    "#### 1.1.2 Energy consumption:\n",
    "What are the top 5 consuming countries (total/per capita) of biofuel / coal / gas / hydro/ nuclear /oil / solar / wind currently?\n",
    "Which countries consume the most energy (total / per capita) now?\n",
    "\n",
    "#### 1.1.3 Development of energy consumption and production:\n",
    "What is the overall development of energy production within the last 50 years? \n",
    "What is the overall development of energy consumption within the last 50 years? \n",
    "How is the total and per capita production / consumption distributed across different continents?\n",
    "Which country made the largest effort to reduce their fossil footprint in the last 10 years? Who is earth’s biggest winner / looser of the 21st century?\n",
    "\n",
    "### 1.2 Explorative questions:\n",
    "Which country will reach total statistical renewable energy consumption first based on our data?\n",
    "When will Germany reach total statistical renewable energy consumption?\n",
    "When will Germany reach total statistical renewable energy production?\n",
    "\n",
    "\n",
    "\n",
    "### 2. Preparation\n",
    "#### 2.1 Import libraries"
   ]
  },
  {
   "cell_type": "code",
   "execution_count": 120,
   "metadata": {},
   "outputs": [],
   "source": [
    "import pandas as pd\n",
    "import numpy as np"
   ]
  },
  {
   "cell_type": "markdown",
   "metadata": {},
   "source": [
    "#### 2.2 Import the dataset World Energy Consumption\n",
    "To work with the data we import it from the csv file into a pandas dataframe object"
   ]
  },
  {
   "cell_type": "code",
   "execution_count": 121,
   "metadata": {},
   "outputs": [],
   "source": [
    "df = pd.read_csv(\"WorldEnergyConsumption.csv\",sep=\",\")"
   ]
  },
  {
   "cell_type": "markdown",
   "metadata": {},
   "source": [
    "#### 2.3 Exploration of data\n",
    "To work with the data, we take a look at the columns and general shape of the data."
   ]
  },
  {
   "cell_type": "code",
   "execution_count": 122,
   "metadata": {},
   "outputs": [
    {
     "name": "stdout",
     "output_type": "stream",
     "text": [
      "<class 'pandas.core.frame.DataFrame'>\n",
      "RangeIndex: 17432 entries, 0 to 17431\n",
      "Columns: 122 entries, iso_code to wind_energy_per_capita\n",
      "dtypes: float64(119), int64(1), object(2)\n",
      "memory usage: 16.2+ MB\n"
     ]
    }
   ],
   "source": [
    "df.info()"
   ]
  },
  {
   "cell_type": "code",
   "execution_count": 123,
   "metadata": {
    "scrolled": true
   },
   "outputs": [
    {
     "data": {
      "text/html": [
       "<div>\n",
       "<style scoped>\n",
       "    .dataframe tbody tr th:only-of-type {\n",
       "        vertical-align: middle;\n",
       "    }\n",
       "\n",
       "    .dataframe tbody tr th {\n",
       "        vertical-align: top;\n",
       "    }\n",
       "\n",
       "    .dataframe thead th {\n",
       "        text-align: right;\n",
       "    }\n",
       "</style>\n",
       "<table border=\"1\" class=\"dataframe\">\n",
       "  <thead>\n",
       "    <tr style=\"text-align: right;\">\n",
       "      <th></th>\n",
       "      <th>year</th>\n",
       "      <th>coal_prod_change_pct</th>\n",
       "      <th>coal_prod_change_twh</th>\n",
       "      <th>gas_prod_change_pct</th>\n",
       "      <th>gas_prod_change_twh</th>\n",
       "      <th>oil_prod_change_pct</th>\n",
       "      <th>oil_prod_change_twh</th>\n",
       "      <th>energy_cons_change_pct</th>\n",
       "      <th>energy_cons_change_twh</th>\n",
       "      <th>biofuel_share_elec</th>\n",
       "      <th>...</th>\n",
       "      <th>solar_elec_per_capita</th>\n",
       "      <th>solar_energy_per_capita</th>\n",
       "      <th>gdp</th>\n",
       "      <th>wind_share_elec</th>\n",
       "      <th>wind_cons_change_pct</th>\n",
       "      <th>wind_share_energy</th>\n",
       "      <th>wind_cons_change_twh</th>\n",
       "      <th>wind_consumption</th>\n",
       "      <th>wind_elec_per_capita</th>\n",
       "      <th>wind_energy_per_capita</th>\n",
       "    </tr>\n",
       "  </thead>\n",
       "  <tbody>\n",
       "    <tr>\n",
       "      <th>count</th>\n",
       "      <td>17432.000000</td>\n",
       "      <td>7445.000000</td>\n",
       "      <td>10394.000000</td>\n",
       "      <td>4.862000e+03</td>\n",
       "      <td>7893.000000</td>\n",
       "      <td>6521.000000</td>\n",
       "      <td>8565.000000</td>\n",
       "      <td>9842.00000</td>\n",
       "      <td>9892.000000</td>\n",
       "      <td>4206.000000</td>\n",
       "      <td>...</td>\n",
       "      <td>5499.000000</td>\n",
       "      <td>4290.000000</td>\n",
       "      <td>1.045600e+04</td>\n",
       "      <td>6076.000000</td>\n",
       "      <td>1543.000000</td>\n",
       "      <td>4284.000000</td>\n",
       "      <td>4207.000000</td>\n",
       "      <td>4290.000000</td>\n",
       "      <td>5499.000000</td>\n",
       "      <td>4290.000000</td>\n",
       "    </tr>\n",
       "    <tr>\n",
       "      <th>mean</th>\n",
       "      <td>1973.094367</td>\n",
       "      <td>20.830774</td>\n",
       "      <td>8.798102</td>\n",
       "      <td>1.921623e+14</td>\n",
       "      <td>14.369018</td>\n",
       "      <td>18.242190</td>\n",
       "      <td>18.033792</td>\n",
       "      <td>inf</td>\n",
       "      <td>36.853247</td>\n",
       "      <td>1.549155</td>\n",
       "      <td>...</td>\n",
       "      <td>14.776571</td>\n",
       "      <td>29.375128</td>\n",
       "      <td>5.417833e+11</td>\n",
       "      <td>1.006011</td>\n",
       "      <td>313.478014</td>\n",
       "      <td>0.345406</td>\n",
       "      <td>2.163830</td>\n",
       "      <td>15.080935</td>\n",
       "      <td>53.625783</td>\n",
       "      <td>134.003056</td>\n",
       "    </tr>\n",
       "    <tr>\n",
       "      <th>std</th>\n",
       "      <td>34.333995</td>\n",
       "      <td>697.178744</td>\n",
       "      <td>135.503698</td>\n",
       "      <td>1.339910e+16</td>\n",
       "      <td>85.415649</td>\n",
       "      <td>335.492675</td>\n",
       "      <td>169.610587</td>\n",
       "      <td>NaN</td>\n",
       "      <td>267.425811</td>\n",
       "      <td>3.544546</td>\n",
       "      <td>...</td>\n",
       "      <td>58.750432</td>\n",
       "      <td>127.852638</td>\n",
       "      <td>4.083842e+12</td>\n",
       "      <td>3.680550</td>\n",
       "      <td>6836.857935</td>\n",
       "      <td>1.337962</td>\n",
       "      <td>17.013149</td>\n",
       "      <td>126.674141</td>\n",
       "      <td>209.543489</td>\n",
       "      <td>513.368047</td>\n",
       "    </tr>\n",
       "    <tr>\n",
       "      <th>min</th>\n",
       "      <td>1900.000000</td>\n",
       "      <td>-100.000000</td>\n",
       "      <td>-2326.870000</td>\n",
       "      <td>-1.000000e+02</td>\n",
       "      <td>-1054.320000</td>\n",
       "      <td>-100.000000</td>\n",
       "      <td>-2239.737000</td>\n",
       "      <td>-92.63200</td>\n",
       "      <td>-6083.407000</td>\n",
       "      <td>0.000000</td>\n",
       "      <td>...</td>\n",
       "      <td>0.000000</td>\n",
       "      <td>0.000000</td>\n",
       "      <td>1.963080e+08</td>\n",
       "      <td>0.000000</td>\n",
       "      <td>-100.000000</td>\n",
       "      <td>0.000000</td>\n",
       "      <td>-10.409000</td>\n",
       "      <td>0.000000</td>\n",
       "      <td>0.000000</td>\n",
       "      <td>0.000000</td>\n",
       "    </tr>\n",
       "    <tr>\n",
       "      <th>25%</th>\n",
       "      <td>1946.000000</td>\n",
       "      <td>-1.532000</td>\n",
       "      <td>0.000000</td>\n",
       "      <td>0.000000e+00</td>\n",
       "      <td>0.000000</td>\n",
       "      <td>-1.429000</td>\n",
       "      <td>0.000000</td>\n",
       "      <td>-0.43075</td>\n",
       "      <td>-0.044000</td>\n",
       "      <td>0.000000</td>\n",
       "      <td>...</td>\n",
       "      <td>0.000000</td>\n",
       "      <td>0.000000</td>\n",
       "      <td>1.253804e+10</td>\n",
       "      <td>0.000000</td>\n",
       "      <td>2.159500</td>\n",
       "      <td>0.000000</td>\n",
       "      <td>0.000000</td>\n",
       "      <td>0.000000</td>\n",
       "      <td>0.000000</td>\n",
       "      <td>0.000000</td>\n",
       "    </tr>\n",
       "    <tr>\n",
       "      <th>50%</th>\n",
       "      <td>1983.000000</td>\n",
       "      <td>0.000000</td>\n",
       "      <td>0.000000</td>\n",
       "      <td>2.583500e+00</td>\n",
       "      <td>0.000000</td>\n",
       "      <td>0.278000</td>\n",
       "      <td>0.000000</td>\n",
       "      <td>2.56700</td>\n",
       "      <td>0.735500</td>\n",
       "      <td>0.021500</td>\n",
       "      <td>...</td>\n",
       "      <td>0.000000</td>\n",
       "      <td>0.000000</td>\n",
       "      <td>4.281649e+10</td>\n",
       "      <td>0.000000</td>\n",
       "      <td>19.749000</td>\n",
       "      <td>0.000000</td>\n",
       "      <td>0.000000</td>\n",
       "      <td>0.000000</td>\n",
       "      <td>0.000000</td>\n",
       "      <td>0.000000</td>\n",
       "    </tr>\n",
       "    <tr>\n",
       "      <th>75%</th>\n",
       "      <td>2002.000000</td>\n",
       "      <td>7.690000</td>\n",
       "      <td>0.334000</td>\n",
       "      <td>9.703500e+00</td>\n",
       "      <td>2.559000</td>\n",
       "      <td>9.091000</td>\n",
       "      <td>3.222000</td>\n",
       "      <td>6.87650</td>\n",
       "      <td>10.328250</td>\n",
       "      <td>1.362750</td>\n",
       "      <td>...</td>\n",
       "      <td>0.794000</td>\n",
       "      <td>0.295500</td>\n",
       "      <td>1.750000e+11</td>\n",
       "      <td>0.108250</td>\n",
       "      <td>50.000000</td>\n",
       "      <td>0.020000</td>\n",
       "      <td>0.010000</td>\n",
       "      <td>0.141000</td>\n",
       "      <td>3.046500</td>\n",
       "      <td>4.744750</td>\n",
       "    </tr>\n",
       "    <tr>\n",
       "      <th>max</th>\n",
       "      <td>2020.000000</td>\n",
       "      <td>44965.754000</td>\n",
       "      <td>3060.593000</td>\n",
       "      <td>9.342930e+17</td>\n",
       "      <td>2112.975000</td>\n",
       "      <td>25500.000000</td>\n",
       "      <td>2790.614000</td>\n",
       "      <td>inf</td>\n",
       "      <td>6446.809000</td>\n",
       "      <td>33.912000</td>\n",
       "      <td>...</td>\n",
       "      <td>825.094000</td>\n",
       "      <td>1763.675000</td>\n",
       "      <td>1.070000e+14</td>\n",
       "      <td>56.338000</td>\n",
       "      <td>242384.843000</td>\n",
       "      <td>20.660000</td>\n",
       "      <td>428.736000</td>\n",
       "      <td>3540.051000</td>\n",
       "      <td>2825.425000</td>\n",
       "      <td>6928.363000</td>\n",
       "    </tr>\n",
       "  </tbody>\n",
       "</table>\n",
       "<p>8 rows × 120 columns</p>\n",
       "</div>"
      ],
      "text/plain": [
       "               year  coal_prod_change_pct  coal_prod_change_twh  \\\n",
       "count  17432.000000           7445.000000          10394.000000   \n",
       "mean    1973.094367             20.830774              8.798102   \n",
       "std       34.333995            697.178744            135.503698   \n",
       "min     1900.000000           -100.000000          -2326.870000   \n",
       "25%     1946.000000             -1.532000              0.000000   \n",
       "50%     1983.000000              0.000000              0.000000   \n",
       "75%     2002.000000              7.690000              0.334000   \n",
       "max     2020.000000          44965.754000           3060.593000   \n",
       "\n",
       "       gas_prod_change_pct  gas_prod_change_twh  oil_prod_change_pct  \\\n",
       "count         4.862000e+03          7893.000000          6521.000000   \n",
       "mean          1.921623e+14            14.369018            18.242190   \n",
       "std           1.339910e+16            85.415649           335.492675   \n",
       "min          -1.000000e+02         -1054.320000          -100.000000   \n",
       "25%           0.000000e+00             0.000000            -1.429000   \n",
       "50%           2.583500e+00             0.000000             0.278000   \n",
       "75%           9.703500e+00             2.559000             9.091000   \n",
       "max           9.342930e+17          2112.975000         25500.000000   \n",
       "\n",
       "       oil_prod_change_twh  energy_cons_change_pct  energy_cons_change_twh  \\\n",
       "count          8565.000000              9842.00000             9892.000000   \n",
       "mean             18.033792                     inf               36.853247   \n",
       "std             169.610587                     NaN              267.425811   \n",
       "min           -2239.737000               -92.63200            -6083.407000   \n",
       "25%               0.000000                -0.43075               -0.044000   \n",
       "50%               0.000000                 2.56700                0.735500   \n",
       "75%               3.222000                 6.87650               10.328250   \n",
       "max            2790.614000                     inf             6446.809000   \n",
       "\n",
       "       biofuel_share_elec  ...  solar_elec_per_capita  \\\n",
       "count         4206.000000  ...            5499.000000   \n",
       "mean             1.549155  ...              14.776571   \n",
       "std              3.544546  ...              58.750432   \n",
       "min              0.000000  ...               0.000000   \n",
       "25%              0.000000  ...               0.000000   \n",
       "50%              0.021500  ...               0.000000   \n",
       "75%              1.362750  ...               0.794000   \n",
       "max             33.912000  ...             825.094000   \n",
       "\n",
       "       solar_energy_per_capita           gdp  wind_share_elec  \\\n",
       "count              4290.000000  1.045600e+04      6076.000000   \n",
       "mean                 29.375128  5.417833e+11         1.006011   \n",
       "std                 127.852638  4.083842e+12         3.680550   \n",
       "min                   0.000000  1.963080e+08         0.000000   \n",
       "25%                   0.000000  1.253804e+10         0.000000   \n",
       "50%                   0.000000  4.281649e+10         0.000000   \n",
       "75%                   0.295500  1.750000e+11         0.108250   \n",
       "max                1763.675000  1.070000e+14        56.338000   \n",
       "\n",
       "       wind_cons_change_pct  wind_share_energy  wind_cons_change_twh  \\\n",
       "count           1543.000000        4284.000000           4207.000000   \n",
       "mean             313.478014           0.345406              2.163830   \n",
       "std             6836.857935           1.337962             17.013149   \n",
       "min             -100.000000           0.000000            -10.409000   \n",
       "25%                2.159500           0.000000              0.000000   \n",
       "50%               19.749000           0.000000              0.000000   \n",
       "75%               50.000000           0.020000              0.010000   \n",
       "max           242384.843000          20.660000            428.736000   \n",
       "\n",
       "       wind_consumption  wind_elec_per_capita  wind_energy_per_capita  \n",
       "count       4290.000000           5499.000000             4290.000000  \n",
       "mean          15.080935             53.625783              134.003056  \n",
       "std          126.674141            209.543489              513.368047  \n",
       "min            0.000000              0.000000                0.000000  \n",
       "25%            0.000000              0.000000                0.000000  \n",
       "50%            0.000000              0.000000                0.000000  \n",
       "75%            0.141000              3.046500                4.744750  \n",
       "max         3540.051000           2825.425000             6928.363000  \n",
       "\n",
       "[8 rows x 120 columns]"
      ]
     },
     "execution_count": 123,
     "metadata": {},
     "output_type": "execute_result"
    }
   ],
   "source": [
    "df.describe()"
   ]
  },
  {
   "cell_type": "code",
   "execution_count": 124,
   "metadata": {},
   "outputs": [
    {
     "data": {
      "text/plain": [
       "(17432, 122)"
      ]
     },
     "execution_count": 124,
     "metadata": {},
     "output_type": "execute_result"
    }
   ],
   "source": [
    "df.shape"
   ]
  },
  {
   "cell_type": "code",
   "execution_count": 125,
   "metadata": {},
   "outputs": [
    {
     "name": "stdout",
     "output_type": "stream",
     "text": [
      "Header names of the data set columns:\n",
      "- iso_code/n\n",
      "- country/n\n",
      "- year/n\n",
      "- coal_prod_change_pct/n\n",
      "- coal_prod_change_twh/n\n",
      "- gas_prod_change_pct/n\n",
      "- gas_prod_change_twh/n\n",
      "- oil_prod_change_pct/n\n",
      "- oil_prod_change_twh/n\n",
      "- energy_cons_change_pct/n\n",
      "- energy_cons_change_twh/n\n",
      "- biofuel_share_elec/n\n",
      "- biofuel_elec_per_capita/n\n",
      "- biofuel_cons_change_pct/n\n",
      "- biofuel_share_energy/n\n",
      "- biofuel_cons_change_twh/n\n",
      "- biofuel_consumption/n\n",
      "- biofuel_cons_per_capita/n\n",
      "- carbon_intensity_elec/n\n",
      "- coal_share_elec/n\n",
      "- coal_cons_change_pct/n\n",
      "- coal_share_energy/n\n",
      "- coal_cons_change_twh/n\n",
      "- coal_consumption/n\n",
      "- coal_elec_per_capita/n\n",
      "- coal_cons_per_capita/n\n",
      "- coal_production/n\n",
      "- coal_prod_per_capita/n\n",
      "- electricity_generation/n\n",
      "- biofuel_electricity/n\n",
      "- coal_electricity/n\n",
      "- fossil_electricity/n\n",
      "- gas_electricity/n\n",
      "- hydro_electricity/n\n",
      "- nuclear_electricity/n\n",
      "- oil_electricity/n\n",
      "- other_renewable_electricity/n\n",
      "- other_renewable_exc_biofuel_electricity/n\n",
      "- renewables_electricity/n\n",
      "- solar_electricity/n\n",
      "- wind_electricity/n\n",
      "- energy_per_gdp/n\n",
      "- energy_per_capita/n\n",
      "- fossil_cons_change_pct/n\n",
      "- fossil_share_energy/n\n",
      "- fossil_cons_change_twh/n\n",
      "- fossil_fuel_consumption/n\n",
      "- fossil_energy_per_capita/n\n",
      "- fossil_cons_per_capita/n\n",
      "- fossil_share_elec/n\n",
      "- gas_share_elec/n\n",
      "- gas_cons_change_pct/n\n",
      "- gas_share_energy/n\n",
      "- gas_cons_change_twh/n\n",
      "- gas_consumption/n\n",
      "- gas_elec_per_capita/n\n",
      "- gas_energy_per_capita/n\n",
      "- gas_production/n\n",
      "- gas_prod_per_capita/n\n",
      "- hydro_share_elec/n\n",
      "- hydro_cons_change_pct/n\n",
      "- hydro_share_energy/n\n",
      "- hydro_cons_change_twh/n\n",
      "- hydro_consumption/n\n",
      "- hydro_elec_per_capita/n\n",
      "- hydro_energy_per_capita/n\n",
      "- low_carbon_share_elec/n\n",
      "- low_carbon_electricity/n\n",
      "- low_carbon_elec_per_capita/n\n",
      "- low_carbon_cons_change_pct/n\n",
      "- low_carbon_share_energy/n\n",
      "- low_carbon_cons_change_twh/n\n",
      "- low_carbon_consumption/n\n",
      "- low_carbon_energy_per_capita/n\n",
      "- nuclear_share_elec/n\n",
      "- nuclear_cons_change_pct/n\n",
      "- nuclear_share_energy/n\n",
      "- nuclear_cons_change_twh/n\n",
      "- nuclear_consumption/n\n",
      "- nuclear_elec_per_capita/n\n",
      "- nuclear_energy_per_capita/n\n",
      "- oil_share_elec/n\n",
      "- oil_cons_change_pct/n\n",
      "- oil_share_energy/n\n",
      "- oil_cons_change_twh/n\n",
      "- oil_consumption/n\n",
      "- oil_elec_per_capita/n\n",
      "- oil_energy_per_capita/n\n",
      "- oil_production/n\n",
      "- oil_prod_per_capita/n\n",
      "- other_renewables_elec_per_capita/n\n",
      "- other_renewables_share_elec/n\n",
      "- other_renewables_cons_change_pct/n\n",
      "- other_renewables_share_energy/n\n",
      "- other_renewables_cons_change_twh/n\n",
      "- other_renewable_consumption/n\n",
      "- other_renewables_energy_per_capita/n\n",
      "- per_capita_electricity/n\n",
      "- population/n\n",
      "- primary_energy_consumption/n\n",
      "- renewables_elec_per_capita/n\n",
      "- renewables_share_elec/n\n",
      "- renewables_cons_change_pct/n\n",
      "- renewables_share_energy/n\n",
      "- renewables_cons_change_twh/n\n",
      "- renewables_consumption/n\n",
      "- renewables_energy_per_capita/n\n",
      "- solar_share_elec/n\n",
      "- solar_cons_change_pct/n\n",
      "- solar_share_energy/n\n",
      "- solar_cons_change_twh/n\n",
      "- solar_consumption/n\n",
      "- solar_elec_per_capita/n\n",
      "- solar_energy_per_capita/n\n",
      "- gdp/n\n",
      "- wind_share_elec/n\n",
      "- wind_cons_change_pct/n\n",
      "- wind_share_energy/n\n",
      "- wind_cons_change_twh/n\n",
      "- wind_consumption/n\n",
      "- wind_elec_per_capita/n\n",
      "- wind_energy_per_capita/n\n"
     ]
    }
   ],
   "source": [
    "df_column_list = list(df.columns)\n",
    "print('Header names of the data set columns:' )\n",
    "for val in df_column_list:\n",
    "    print('- ' + val + '/n')\n"
   ]
  },
  {
   "cell_type": "markdown",
   "metadata": {},
   "source": [
    "Let's take a quick look at some data entries to get a better understanding of the data."
   ]
  },
  {
   "cell_type": "code",
   "execution_count": 126,
   "metadata": {
    "scrolled": false
   },
   "outputs": [
    {
     "data": {
      "text/html": [
       "<div>\n",
       "<style scoped>\n",
       "    .dataframe tbody tr th:only-of-type {\n",
       "        vertical-align: middle;\n",
       "    }\n",
       "\n",
       "    .dataframe tbody tr th {\n",
       "        vertical-align: top;\n",
       "    }\n",
       "\n",
       "    .dataframe thead th {\n",
       "        text-align: right;\n",
       "    }\n",
       "</style>\n",
       "<table border=\"1\" class=\"dataframe\">\n",
       "  <thead>\n",
       "    <tr style=\"text-align: right;\">\n",
       "      <th></th>\n",
       "      <th>iso_code</th>\n",
       "      <th>country</th>\n",
       "      <th>year</th>\n",
       "      <th>coal_prod_change_pct</th>\n",
       "      <th>coal_prod_change_twh</th>\n",
       "      <th>gas_prod_change_pct</th>\n",
       "      <th>gas_prod_change_twh</th>\n",
       "      <th>oil_prod_change_pct</th>\n",
       "      <th>oil_prod_change_twh</th>\n",
       "      <th>energy_cons_change_pct</th>\n",
       "      <th>...</th>\n",
       "      <th>solar_elec_per_capita</th>\n",
       "      <th>solar_energy_per_capita</th>\n",
       "      <th>gdp</th>\n",
       "      <th>wind_share_elec</th>\n",
       "      <th>wind_cons_change_pct</th>\n",
       "      <th>wind_share_energy</th>\n",
       "      <th>wind_cons_change_twh</th>\n",
       "      <th>wind_consumption</th>\n",
       "      <th>wind_elec_per_capita</th>\n",
       "      <th>wind_energy_per_capita</th>\n",
       "    </tr>\n",
       "  </thead>\n",
       "  <tbody>\n",
       "    <tr>\n",
       "      <th>0</th>\n",
       "      <td>AFG</td>\n",
       "      <td>Afghanistan</td>\n",
       "      <td>1900</td>\n",
       "      <td>NaN</td>\n",
       "      <td>NaN</td>\n",
       "      <td>NaN</td>\n",
       "      <td>NaN</td>\n",
       "      <td>NaN</td>\n",
       "      <td>NaN</td>\n",
       "      <td>NaN</td>\n",
       "      <td>...</td>\n",
       "      <td>NaN</td>\n",
       "      <td>NaN</td>\n",
       "      <td>NaN</td>\n",
       "      <td>NaN</td>\n",
       "      <td>NaN</td>\n",
       "      <td>NaN</td>\n",
       "      <td>NaN</td>\n",
       "      <td>NaN</td>\n",
       "      <td>NaN</td>\n",
       "      <td>NaN</td>\n",
       "    </tr>\n",
       "    <tr>\n",
       "      <th>1</th>\n",
       "      <td>AFG</td>\n",
       "      <td>Afghanistan</td>\n",
       "      <td>1901</td>\n",
       "      <td>NaN</td>\n",
       "      <td>0.0</td>\n",
       "      <td>NaN</td>\n",
       "      <td>NaN</td>\n",
       "      <td>NaN</td>\n",
       "      <td>NaN</td>\n",
       "      <td>NaN</td>\n",
       "      <td>...</td>\n",
       "      <td>NaN</td>\n",
       "      <td>NaN</td>\n",
       "      <td>NaN</td>\n",
       "      <td>NaN</td>\n",
       "      <td>NaN</td>\n",
       "      <td>NaN</td>\n",
       "      <td>NaN</td>\n",
       "      <td>NaN</td>\n",
       "      <td>NaN</td>\n",
       "      <td>NaN</td>\n",
       "    </tr>\n",
       "    <tr>\n",
       "      <th>2</th>\n",
       "      <td>AFG</td>\n",
       "      <td>Afghanistan</td>\n",
       "      <td>1902</td>\n",
       "      <td>NaN</td>\n",
       "      <td>0.0</td>\n",
       "      <td>NaN</td>\n",
       "      <td>NaN</td>\n",
       "      <td>NaN</td>\n",
       "      <td>NaN</td>\n",
       "      <td>NaN</td>\n",
       "      <td>...</td>\n",
       "      <td>NaN</td>\n",
       "      <td>NaN</td>\n",
       "      <td>NaN</td>\n",
       "      <td>NaN</td>\n",
       "      <td>NaN</td>\n",
       "      <td>NaN</td>\n",
       "      <td>NaN</td>\n",
       "      <td>NaN</td>\n",
       "      <td>NaN</td>\n",
       "      <td>NaN</td>\n",
       "    </tr>\n",
       "    <tr>\n",
       "      <th>3</th>\n",
       "      <td>AFG</td>\n",
       "      <td>Afghanistan</td>\n",
       "      <td>1903</td>\n",
       "      <td>NaN</td>\n",
       "      <td>0.0</td>\n",
       "      <td>NaN</td>\n",
       "      <td>NaN</td>\n",
       "      <td>NaN</td>\n",
       "      <td>NaN</td>\n",
       "      <td>NaN</td>\n",
       "      <td>...</td>\n",
       "      <td>NaN</td>\n",
       "      <td>NaN</td>\n",
       "      <td>NaN</td>\n",
       "      <td>NaN</td>\n",
       "      <td>NaN</td>\n",
       "      <td>NaN</td>\n",
       "      <td>NaN</td>\n",
       "      <td>NaN</td>\n",
       "      <td>NaN</td>\n",
       "      <td>NaN</td>\n",
       "    </tr>\n",
       "    <tr>\n",
       "      <th>4</th>\n",
       "      <td>AFG</td>\n",
       "      <td>Afghanistan</td>\n",
       "      <td>1904</td>\n",
       "      <td>NaN</td>\n",
       "      <td>0.0</td>\n",
       "      <td>NaN</td>\n",
       "      <td>NaN</td>\n",
       "      <td>NaN</td>\n",
       "      <td>NaN</td>\n",
       "      <td>NaN</td>\n",
       "      <td>...</td>\n",
       "      <td>NaN</td>\n",
       "      <td>NaN</td>\n",
       "      <td>NaN</td>\n",
       "      <td>NaN</td>\n",
       "      <td>NaN</td>\n",
       "      <td>NaN</td>\n",
       "      <td>NaN</td>\n",
       "      <td>NaN</td>\n",
       "      <td>NaN</td>\n",
       "      <td>NaN</td>\n",
       "    </tr>\n",
       "    <tr>\n",
       "      <th>5</th>\n",
       "      <td>AFG</td>\n",
       "      <td>Afghanistan</td>\n",
       "      <td>1905</td>\n",
       "      <td>NaN</td>\n",
       "      <td>0.0</td>\n",
       "      <td>NaN</td>\n",
       "      <td>NaN</td>\n",
       "      <td>NaN</td>\n",
       "      <td>NaN</td>\n",
       "      <td>NaN</td>\n",
       "      <td>...</td>\n",
       "      <td>NaN</td>\n",
       "      <td>NaN</td>\n",
       "      <td>NaN</td>\n",
       "      <td>NaN</td>\n",
       "      <td>NaN</td>\n",
       "      <td>NaN</td>\n",
       "      <td>NaN</td>\n",
       "      <td>NaN</td>\n",
       "      <td>NaN</td>\n",
       "      <td>NaN</td>\n",
       "    </tr>\n",
       "    <tr>\n",
       "      <th>6</th>\n",
       "      <td>AFG</td>\n",
       "      <td>Afghanistan</td>\n",
       "      <td>1906</td>\n",
       "      <td>NaN</td>\n",
       "      <td>0.0</td>\n",
       "      <td>NaN</td>\n",
       "      <td>NaN</td>\n",
       "      <td>NaN</td>\n",
       "      <td>NaN</td>\n",
       "      <td>NaN</td>\n",
       "      <td>...</td>\n",
       "      <td>NaN</td>\n",
       "      <td>NaN</td>\n",
       "      <td>NaN</td>\n",
       "      <td>NaN</td>\n",
       "      <td>NaN</td>\n",
       "      <td>NaN</td>\n",
       "      <td>NaN</td>\n",
       "      <td>NaN</td>\n",
       "      <td>NaN</td>\n",
       "      <td>NaN</td>\n",
       "    </tr>\n",
       "    <tr>\n",
       "      <th>7</th>\n",
       "      <td>AFG</td>\n",
       "      <td>Afghanistan</td>\n",
       "      <td>1907</td>\n",
       "      <td>NaN</td>\n",
       "      <td>0.0</td>\n",
       "      <td>NaN</td>\n",
       "      <td>NaN</td>\n",
       "      <td>NaN</td>\n",
       "      <td>NaN</td>\n",
       "      <td>NaN</td>\n",
       "      <td>...</td>\n",
       "      <td>NaN</td>\n",
       "      <td>NaN</td>\n",
       "      <td>NaN</td>\n",
       "      <td>NaN</td>\n",
       "      <td>NaN</td>\n",
       "      <td>NaN</td>\n",
       "      <td>NaN</td>\n",
       "      <td>NaN</td>\n",
       "      <td>NaN</td>\n",
       "      <td>NaN</td>\n",
       "    </tr>\n",
       "    <tr>\n",
       "      <th>8</th>\n",
       "      <td>AFG</td>\n",
       "      <td>Afghanistan</td>\n",
       "      <td>1908</td>\n",
       "      <td>NaN</td>\n",
       "      <td>0.0</td>\n",
       "      <td>NaN</td>\n",
       "      <td>NaN</td>\n",
       "      <td>NaN</td>\n",
       "      <td>NaN</td>\n",
       "      <td>NaN</td>\n",
       "      <td>...</td>\n",
       "      <td>NaN</td>\n",
       "      <td>NaN</td>\n",
       "      <td>NaN</td>\n",
       "      <td>NaN</td>\n",
       "      <td>NaN</td>\n",
       "      <td>NaN</td>\n",
       "      <td>NaN</td>\n",
       "      <td>NaN</td>\n",
       "      <td>NaN</td>\n",
       "      <td>NaN</td>\n",
       "    </tr>\n",
       "    <tr>\n",
       "      <th>9</th>\n",
       "      <td>AFG</td>\n",
       "      <td>Afghanistan</td>\n",
       "      <td>1909</td>\n",
       "      <td>NaN</td>\n",
       "      <td>0.0</td>\n",
       "      <td>NaN</td>\n",
       "      <td>NaN</td>\n",
       "      <td>NaN</td>\n",
       "      <td>NaN</td>\n",
       "      <td>NaN</td>\n",
       "      <td>...</td>\n",
       "      <td>NaN</td>\n",
       "      <td>NaN</td>\n",
       "      <td>NaN</td>\n",
       "      <td>NaN</td>\n",
       "      <td>NaN</td>\n",
       "      <td>NaN</td>\n",
       "      <td>NaN</td>\n",
       "      <td>NaN</td>\n",
       "      <td>NaN</td>\n",
       "      <td>NaN</td>\n",
       "    </tr>\n",
       "  </tbody>\n",
       "</table>\n",
       "<p>10 rows × 122 columns</p>\n",
       "</div>"
      ],
      "text/plain": [
       "  iso_code      country  year  coal_prod_change_pct  coal_prod_change_twh  \\\n",
       "0      AFG  Afghanistan  1900                   NaN                   NaN   \n",
       "1      AFG  Afghanistan  1901                   NaN                   0.0   \n",
       "2      AFG  Afghanistan  1902                   NaN                   0.0   \n",
       "3      AFG  Afghanistan  1903                   NaN                   0.0   \n",
       "4      AFG  Afghanistan  1904                   NaN                   0.0   \n",
       "5      AFG  Afghanistan  1905                   NaN                   0.0   \n",
       "6      AFG  Afghanistan  1906                   NaN                   0.0   \n",
       "7      AFG  Afghanistan  1907                   NaN                   0.0   \n",
       "8      AFG  Afghanistan  1908                   NaN                   0.0   \n",
       "9      AFG  Afghanistan  1909                   NaN                   0.0   \n",
       "\n",
       "   gas_prod_change_pct  gas_prod_change_twh  oil_prod_change_pct  \\\n",
       "0                  NaN                  NaN                  NaN   \n",
       "1                  NaN                  NaN                  NaN   \n",
       "2                  NaN                  NaN                  NaN   \n",
       "3                  NaN                  NaN                  NaN   \n",
       "4                  NaN                  NaN                  NaN   \n",
       "5                  NaN                  NaN                  NaN   \n",
       "6                  NaN                  NaN                  NaN   \n",
       "7                  NaN                  NaN                  NaN   \n",
       "8                  NaN                  NaN                  NaN   \n",
       "9                  NaN                  NaN                  NaN   \n",
       "\n",
       "   oil_prod_change_twh  energy_cons_change_pct  ...  solar_elec_per_capita  \\\n",
       "0                  NaN                     NaN  ...                    NaN   \n",
       "1                  NaN                     NaN  ...                    NaN   \n",
       "2                  NaN                     NaN  ...                    NaN   \n",
       "3                  NaN                     NaN  ...                    NaN   \n",
       "4                  NaN                     NaN  ...                    NaN   \n",
       "5                  NaN                     NaN  ...                    NaN   \n",
       "6                  NaN                     NaN  ...                    NaN   \n",
       "7                  NaN                     NaN  ...                    NaN   \n",
       "8                  NaN                     NaN  ...                    NaN   \n",
       "9                  NaN                     NaN  ...                    NaN   \n",
       "\n",
       "   solar_energy_per_capita  gdp  wind_share_elec  wind_cons_change_pct  \\\n",
       "0                      NaN  NaN              NaN                   NaN   \n",
       "1                      NaN  NaN              NaN                   NaN   \n",
       "2                      NaN  NaN              NaN                   NaN   \n",
       "3                      NaN  NaN              NaN                   NaN   \n",
       "4                      NaN  NaN              NaN                   NaN   \n",
       "5                      NaN  NaN              NaN                   NaN   \n",
       "6                      NaN  NaN              NaN                   NaN   \n",
       "7                      NaN  NaN              NaN                   NaN   \n",
       "8                      NaN  NaN              NaN                   NaN   \n",
       "9                      NaN  NaN              NaN                   NaN   \n",
       "\n",
       "   wind_share_energy  wind_cons_change_twh  wind_consumption  \\\n",
       "0                NaN                   NaN               NaN   \n",
       "1                NaN                   NaN               NaN   \n",
       "2                NaN                   NaN               NaN   \n",
       "3                NaN                   NaN               NaN   \n",
       "4                NaN                   NaN               NaN   \n",
       "5                NaN                   NaN               NaN   \n",
       "6                NaN                   NaN               NaN   \n",
       "7                NaN                   NaN               NaN   \n",
       "8                NaN                   NaN               NaN   \n",
       "9                NaN                   NaN               NaN   \n",
       "\n",
       "   wind_elec_per_capita  wind_energy_per_capita  \n",
       "0                   NaN                     NaN  \n",
       "1                   NaN                     NaN  \n",
       "2                   NaN                     NaN  \n",
       "3                   NaN                     NaN  \n",
       "4                   NaN                     NaN  \n",
       "5                   NaN                     NaN  \n",
       "6                   NaN                     NaN  \n",
       "7                   NaN                     NaN  \n",
       "8                   NaN                     NaN  \n",
       "9                   NaN                     NaN  \n",
       "\n",
       "[10 rows x 122 columns]"
      ]
     },
     "execution_count": 126,
     "metadata": {},
     "output_type": "execute_result"
    }
   ],
   "source": [
    "df.head(10)"
   ]
  },
  {
   "cell_type": "markdown",
   "metadata": {},
   "source": [
    "### 3. Cleansing and restructuring of the data\n",
    "To work with the data, we have to remove unusable and not relevant data as well as missing data points.\n",
    "\n",
    "1. Look for null values and whether they can be reduced or should be kept (more data in the row)\n",
    "2. Look for empty rows\n",
    "3. Looking for duplicates"
   ]
  },
  {
   "cell_type": "markdown",
   "metadata": {},
   "source": [
    "#### 3.1 Looking for null values\n",
    "Check if there are any null values in the dataset. From the exploration before we know that there have to be at least some."
   ]
  },
  {
   "cell_type": "code",
   "execution_count": 136,
   "metadata": {
    "scrolled": true
   },
   "outputs": [
    {
     "data": {
      "text/html": [
       "<div>\n",
       "<style scoped>\n",
       "    .dataframe tbody tr th:only-of-type {\n",
       "        vertical-align: middle;\n",
       "    }\n",
       "\n",
       "    .dataframe tbody tr th {\n",
       "        vertical-align: top;\n",
       "    }\n",
       "\n",
       "    .dataframe thead th {\n",
       "        text-align: right;\n",
       "    }\n",
       "</style>\n",
       "<table border=\"1\" class=\"dataframe\">\n",
       "  <thead>\n",
       "    <tr style=\"text-align: right;\">\n",
       "      <th></th>\n",
       "      <th>iso_code</th>\n",
       "      <th>country</th>\n",
       "      <th>year</th>\n",
       "      <th>coal_prod_change_pct</th>\n",
       "      <th>coal_prod_change_twh</th>\n",
       "      <th>gas_prod_change_pct</th>\n",
       "      <th>gas_prod_change_twh</th>\n",
       "      <th>oil_prod_change_pct</th>\n",
       "      <th>oil_prod_change_twh</th>\n",
       "      <th>energy_cons_change_pct</th>\n",
       "      <th>...</th>\n",
       "      <th>solar_elec_per_capita</th>\n",
       "      <th>solar_energy_per_capita</th>\n",
       "      <th>gdp</th>\n",
       "      <th>wind_share_elec</th>\n",
       "      <th>wind_cons_change_pct</th>\n",
       "      <th>wind_share_energy</th>\n",
       "      <th>wind_cons_change_twh</th>\n",
       "      <th>wind_consumption</th>\n",
       "      <th>wind_elec_per_capita</th>\n",
       "      <th>wind_energy_per_capita</th>\n",
       "    </tr>\n",
       "  </thead>\n",
       "  <tbody>\n",
       "    <tr>\n",
       "      <th>False</th>\n",
       "      <td>15630</td>\n",
       "      <td>17432.0</td>\n",
       "      <td>17432.0</td>\n",
       "      <td>7445</td>\n",
       "      <td>10394</td>\n",
       "      <td>4862</td>\n",
       "      <td>7893</td>\n",
       "      <td>6521</td>\n",
       "      <td>8565</td>\n",
       "      <td>9842</td>\n",
       "      <td>...</td>\n",
       "      <td>5499</td>\n",
       "      <td>4290</td>\n",
       "      <td>10456</td>\n",
       "      <td>6076</td>\n",
       "      <td>1543</td>\n",
       "      <td>4284</td>\n",
       "      <td>4207</td>\n",
       "      <td>4290</td>\n",
       "      <td>5499</td>\n",
       "      <td>4290</td>\n",
       "    </tr>\n",
       "    <tr>\n",
       "      <th>True</th>\n",
       "      <td>1802</td>\n",
       "      <td>NaN</td>\n",
       "      <td>NaN</td>\n",
       "      <td>9987</td>\n",
       "      <td>7038</td>\n",
       "      <td>12570</td>\n",
       "      <td>9539</td>\n",
       "      <td>10911</td>\n",
       "      <td>8867</td>\n",
       "      <td>7590</td>\n",
       "      <td>...</td>\n",
       "      <td>11933</td>\n",
       "      <td>13142</td>\n",
       "      <td>6976</td>\n",
       "      <td>11356</td>\n",
       "      <td>15889</td>\n",
       "      <td>13148</td>\n",
       "      <td>13225</td>\n",
       "      <td>13142</td>\n",
       "      <td>11933</td>\n",
       "      <td>13142</td>\n",
       "    </tr>\n",
       "  </tbody>\n",
       "</table>\n",
       "<p>2 rows × 122 columns</p>\n",
       "</div>"
      ],
      "text/plain": [
       "       iso_code  country     year  coal_prod_change_pct  coal_prod_change_twh  \\\n",
       "False     15630  17432.0  17432.0                  7445                 10394   \n",
       "True       1802      NaN      NaN                  9987                  7038   \n",
       "\n",
       "       gas_prod_change_pct  gas_prod_change_twh  oil_prod_change_pct  \\\n",
       "False                 4862                 7893                 6521   \n",
       "True                 12570                 9539                10911   \n",
       "\n",
       "       oil_prod_change_twh  energy_cons_change_pct  ...  \\\n",
       "False                 8565                    9842  ...   \n",
       "True                  8867                    7590  ...   \n",
       "\n",
       "       solar_elec_per_capita  solar_energy_per_capita    gdp  wind_share_elec  \\\n",
       "False                   5499                     4290  10456             6076   \n",
       "True                   11933                    13142   6976            11356   \n",
       "\n",
       "       wind_cons_change_pct  wind_share_energy  wind_cons_change_twh  \\\n",
       "False                  1543               4284                  4207   \n",
       "True                  15889              13148                 13225   \n",
       "\n",
       "       wind_consumption  wind_elec_per_capita  wind_energy_per_capita  \n",
       "False              4290                  5499                    4290  \n",
       "True              13142                 11933                   13142  \n",
       "\n",
       "[2 rows x 122 columns]"
      ]
     },
     "execution_count": 136,
     "metadata": {},
     "output_type": "execute_result"
    }
   ],
   "source": [
    "df.isna().apply(pd.value_counts)"
   ]
  },
  {
   "cell_type": "markdown",
   "metadata": {},
   "source": [
    "Now we look more closely for the number of null values"
   ]
  },
  {
   "cell_type": "code",
   "execution_count": 128,
   "metadata": {
    "scrolled": true
   },
   "outputs": [
    {
     "data": {
      "text/plain": [
       "iso_code                   1802\n",
       "country                       0\n",
       "year                          0\n",
       "coal_prod_change_pct       9987\n",
       "coal_prod_change_twh       7038\n",
       "                          ...  \n",
       "wind_share_energy         13148\n",
       "wind_cons_change_twh      13225\n",
       "wind_consumption          13142\n",
       "wind_elec_per_capita      11933\n",
       "wind_energy_per_capita    13142\n",
       "Length: 122, dtype: int64"
      ]
     },
     "execution_count": 128,
     "metadata": {},
     "output_type": "execute_result"
    }
   ],
   "source": [
    "df.isnull().sum()"
   ]
  },
  {
   "cell_type": "markdown",
   "metadata": {},
   "source": [
    "Especially in the renewable energy sector we have a lot of null values since it is a more recent technology and the data stretches back until 1901."
   ]
  },
  {
   "cell_type": "markdown",
   "metadata": {},
   "source": [
    "We have to keep this in mind to map the null values properly. Removing them fully would lead to a largely reduced data set with incomplete data.  df = df.dropna() --> results in a reduction from >17000 entries to 14.\n"
   ]
  },
  {
   "cell_type": "markdown",
   "metadata": {},
   "source": [
    "#### 3.2 Looking for empty rows\n",
    "Since we cannot remove single fields we can check for rows that might be completely empty. Those we can delete savely. From earlied we know that country and year are always present so we need to drop those two columns first before can look for empty rows, otherwise we would recieve no results."
   ]
  },
  {
   "cell_type": "code",
   "execution_count": 129,
   "metadata": {},
   "outputs": [
    {
     "name": "stdout",
     "output_type": "stream",
     "text": [
      "[]\n"
     ]
    }
   ],
   "source": [
    "temp_df = df.drop(columns=['country', 'year'])\n",
    "empty_row_indexes = temp_df.index[temp_df.isna().all(axis=1)].tolist()\n",
    "\n",
    "print (empty_row_indexes)"
   ]
  },
  {
   "cell_type": "markdown",
   "metadata": {},
   "source": [
    "There are no empty rows that we could drop."
   ]
  },
  {
   "cell_type": "markdown",
   "metadata": {},
   "source": [
    "#### 3.3 Looking for duplicated entries\n",
    "As our next step, we search for duplicate entries."
   ]
  },
  {
   "cell_type": "code",
   "execution_count": 130,
   "metadata": {},
   "outputs": [
    {
     "data": {
      "text/plain": [
       "0"
      ]
     },
     "execution_count": 130,
     "metadata": {},
     "output_type": "execute_result"
    }
   ],
   "source": [
    "df.duplicated().sum()"
   ]
  },
  {
   "cell_type": "markdown",
   "metadata": {},
   "source": [
    "0 means that there are no duplicate entries in our data set."
   ]
  },
  {
   "cell_type": "markdown",
   "metadata": {},
   "source": [
    "### 4. Logical cleaning of our data\n",
    "After we looked at the data set from a technical approach to identify the null values, to remove empty rows as well as duplicates we can start to logically clean our data. The maximum data we need is a view back the last 50 years.\n"
   ]
  },
  {
   "cell_type": "code",
   "execution_count": 131,
   "metadata": {},
   "outputs": [
    {
     "name": "stdout",
     "output_type": "stream",
     "text": [
      "Last year: 1969\n"
     ]
    }
   ],
   "source": [
    "target_year_cap = 2019 - 50;\n",
    "print('Last year: ' + str(target_year_cap))"
   ]
  },
  {
   "cell_type": "markdown",
   "metadata": {},
   "source": [
    "Thus we remove every entry that contains data that is older than 1969."
   ]
  },
  {
   "cell_type": "code",
   "execution_count": 132,
   "metadata": {},
   "outputs": [
    {
     "data": {
      "text/plain": [
       "(10825, 122)"
      ]
     },
     "execution_count": 132,
     "metadata": {},
     "output_type": "execute_result"
    }
   ],
   "source": [
    "wdf = df\n",
    "bigger_than_1950 = wdf['year'] >= target_year_cap\n",
    "wdf  = wdf[bigger_than_1950]\n",
    "\n",
    "wdf.shape"
   ]
  },
  {
   "cell_type": "markdown",
   "metadata": {},
   "source": [
    "As a result, we removed around 7000 entries that are not necessary for our analysis."
   ]
  },
  {
   "cell_type": "markdown",
   "metadata": {},
   "source": [
    "### 5. Analysis\n",
    "#### 5.1 What are the current top 5 electricity producing countries (total/per capita) out of biofuel / coal / gas / hydro/ nuclear /oil / solar / wind?\n",
    "##### 5.1.1 Countries that currently (2019) produce the most electricity in total (independent of type)\n"
   ]
  },
  {
   "cell_type": "code",
   "execution_count": 137,
   "metadata": {},
   "outputs": [
    {
     "name": "stderr",
     "output_type": "stream",
     "text": [
      "<ipython-input-137-270d0d90def3>:6: UserWarning: Boolean Series key will be reindexed to match DataFrame index.\n",
      "  df_511  = df_511[is_country]\n"
     ]
    }
   ],
   "source": [
    "df_511 = wdf\n",
    "target_year_511 = 2019\n",
    "is_2019 =  df_511['year'] == target_year_511\n",
    "is_country = np.logical_and(df_511['iso_code'] != 'OWID_WRL', df_511['iso_code'].notnull())\n",
    "df_511  =  df_511[is_2019]\n",
    "df_511  = df_511[is_country]\n",
    "df_511_ref  =  df_511[['iso_code', 'country', 'electricity_generation', 'fossil_electricity', 'nuclear_electricity','renewables_electricity', 'other_renewable_electricity']]\n",
    "# select the top 5 - total\n",
    "df_511_electricity_total_5 = df_511_ref.nlargest(5, 'electricity_generation')"
   ]
  },
  {
   "cell_type": "code",
   "execution_count": 138,
   "metadata": {},
   "outputs": [
    {
     "data": {
      "image/png": "[encoded data removed]",
      "text/plain": [
       "<Figure size 432x288 with 1 Axes>"
      ]
     },
     "metadata": {
      "needs_background": "light"
     },
     "output_type": "display_data"
    }
   ],
   "source": [
    "ax = df_511_electricity_total_5.plot.bar(x='country', y='electricity_generation', rot=0)"
   ]
  },
  {
   "cell_type": "code",
   "execution_count": 142,
   "metadata": {},
   "outputs": [
    {
     "data": {
      "image/png": "[encoded data removed]",
      "text/plain": [
       "<Figure size 432x288 with 1 Axes>"
      ]
     },
     "metadata": {
      "needs_background": "light"
     },
     "output_type": "display_data"
    }
   ],
   "source": [
    "# stack renewable and non renewable\n",
    "df_511_electricity_fossil_renweable_stacked = df_511_ref.nlargest(5, 'electricity_generation')\n",
    "df_511_electricity_fossil_renweable_stacked = df_511_electricity_fossil_renweable_stacked.drop(columns=['electricity_generation'])\n",
    "ax = df_511_electricity_fossil_renweable_stacked.plot.bar(x='country', rot=0, stacked=True)\n"
   ]
  },
  {
   "cell_type": "markdown",
   "metadata": {},
   "source": [
    "##### 5.1.2 Countries that currently (2019) produce the most electricity out of biofuel"
   ]
  },
  {
   "cell_type": "code",
   "execution_count": 150,
   "metadata": {},
   "outputs": [
    {
     "data": {
      "image/png": "[encoded data removed]",
      "text/plain": [
       "<Figure size 432x288 with 1 Axes>"
      ]
     },
     "metadata": {
      "needs_background": "light"
     },
     "output_type": "display_data"
    }
   ],
   "source": [
    "df_512 = wdf\n",
    "target_year_512 = 2019\n",
    "is_2019 =  df_512['year'] == target_year_512\n",
    "is_country = np.logical_and(df_512['iso_code'] != 'OWID_WRL', df_512['iso_code'].notnull())\n",
    "df_512  =  df_512.loc[is_2019]\n",
    "df_512  =   df_512.loc[is_country]\n",
    "df_512_ref  =  df_512[['iso_code', 'country','biofuel_electricity']]\n",
    "df_512_biofuel_electricity = df_512_ref.nlargest(5, 'biofuel_electricity')\n",
    "ax = df_512_biofuel_electricity.plot.bar(x='country', rot=0, stacked=True)"
   ]
  },
  {
   "cell_type": "markdown",
   "metadata": {},
   "source": [
    "##### 5.1.3 Countries that currently (2019) produce the most  electricity out of coal"
   ]
  },
  {
   "cell_type": "code",
   "execution_count": 153,
   "metadata": {
    "scrolled": true
   },
   "outputs": [
    {
     "data": {
      "image/png": "[encoded data removed]",
      "text/plain": [
       "<Figure size 432x288 with 1 Axes>"
      ]
     },
     "metadata": {
      "needs_background": "light"
     },
     "output_type": "display_data"
    }
   ],
   "source": [
    "df_513 = wdf\n",
    "target_year_513 = 2019\n",
    "is_2019 =  df_513['year'] == target_year_513\n",
    "is_country = np.logical_and(df_513['iso_code'] != 'OWID_WRL', df_513['iso_code'].notnull())\n",
    "df_513  =  df_513.loc[is_2019]\n",
    "df_513  =   df_513.loc[is_country]\n",
    "df_513_ref  =  df_513[['iso_code', 'country','coal_electricity']]\n",
    "df_513_coal_electricity = df_513_ref.nlargest(5, 'coal_electricity')\n",
    "ax = df_513_coal_electricity.plot.bar(x='country', rot=0, stacked=True)"
   ]
  },
  {
   "cell_type": "markdown",
   "metadata": {},
   "source": [
    "##### 5.1.4 Countries that currently (2019) produce the most electricity out of gas"
   ]
  },
  {
   "cell_type": "code",
   "execution_count": 155,
   "metadata": {},
   "outputs": [
    {
     "data": {
      "image/png": "[encoded data removed]",
      "text/plain": [
       "<Figure size 432x288 with 1 Axes>"
      ]
     },
     "metadata": {
      "needs_background": "light"
     },
     "output_type": "display_data"
    }
   ],
   "source": [
    "df_514 = wdf\n",
    "target_year_514 = 2019\n",
    "is_2019 =  df_514['year'] == target_year_514\n",
    "is_country = np.logical_and(df_514['iso_code'] != 'OWID_WRL', df_514['iso_code'].notnull())\n",
    "df_514  =  df_514.loc[is_2019]\n",
    "df_514  =   df_514.loc[is_country]\n",
    "df_514_ref  =  df_514[['iso_code', 'country','gas_electricity']]\n",
    "df_514_gas_electricity = df_514_ref.nlargest(5, 'gas_electricity')\n",
    "ax = df_514_gas_electricity.plot.bar(x='country', rot=0, stacked=True)"
   ]
  },
  {
   "cell_type": "markdown",
   "metadata": {},
   "source": [
    "##### 5.1.5 Countries that currently (2019) produce the most electricity out of hydro"
   ]
  },
  {
   "cell_type": "code",
   "execution_count": 159,
   "metadata": {},
   "outputs": [
    {
     "data": {
      "image/png": "[encoded data removed]",
      "text/plain": [
       "<Figure size 432x288 with 1 Axes>"
      ]
     },
     "metadata": {
      "needs_background": "light"
     },
     "output_type": "display_data"
    }
   ],
   "source": [
    "df_515 = wdf\n",
    "target_year_515 = 2019\n",
    "is_2019 =  df_515['year'] == target_year_515\n",
    "is_country = np.logical_and(df_515['iso_code'] != 'OWID_WRL', df_515['iso_code'].notnull())\n",
    "df_515  =  df_515.loc[is_2019]\n",
    "df_515  =   df_515.loc[is_country]\n",
    "df_515_ref  =  df_515[['iso_code', 'country','hydro_electricity']]\n",
    "df_515_hyrdo_electricity = df_515_ref.nlargest(5, 'hydro_electricity')\n",
    "ax = df_515_hyrdo_electricity.plot.bar(x='country', rot=0, stacked=True)"
   ]
  },
  {
   "cell_type": "markdown",
   "metadata": {},
   "source": [
    "##### 5.1.6 Countries that currently (2019) produce the most electricity out of nuclear"
   ]
  },
  {
   "cell_type": "code",
   "execution_count": 161,
   "metadata": {},
   "outputs": [
    {
     "data": {
      "image/png": "[encoded data removed]",
      "text/plain": [
       "<Figure size 432x288 with 1 Axes>"
      ]
     },
     "metadata": {
      "needs_background": "light"
     },
     "output_type": "display_data"
    }
   ],
   "source": [
    "df_516 = wdf\n",
    "target_year_516 = 2019\n",
    "is_2019 =  df_516['year'] == target_year_516\n",
    "is_country = np.logical_and(df_516['iso_code'] != 'OWID_WRL', df_516['iso_code'].notnull())\n",
    "df_516  =  df_516.loc[is_2019]\n",
    "df_516  =   df_516.loc[is_country]\n",
    "df_516_ref  =  df_516[['iso_code', 'country','nuclear_electricity']]\n",
    "df_516_nuclear_electricity = df_516_ref.nlargest(5, 'nuclear_electricity')\n",
    "ax = df_516_nuclear_electricity.plot.bar(x='country', rot=0, stacked=True)"
   ]
  },
  {
   "cell_type": "markdown",
   "metadata": {},
   "source": [
    "##### 5.1.7 Countries that currently (2019) produce the most electricity out of oil"
   ]
  },
  {
   "cell_type": "code",
   "execution_count": 163,
   "metadata": {},
   "outputs": [
    {
     "data": {
      "image/png": "[encoded data removed]",
      "text/plain": [
       "<Figure size 432x288 with 1 Axes>"
      ]
     },
     "metadata": {
      "needs_background": "light"
     },
     "output_type": "display_data"
    }
   ],
   "source": [
    "df_517 = wdf\n",
    "target_year_517 = 2019\n",
    "is_2019 =  df_517['year'] == target_year_517\n",
    "is_country = np.logical_and(df_517['iso_code'] != 'OWID_WRL', df_517['iso_code'].notnull())\n",
    "df_517  =  df_517.loc[is_2019]\n",
    "df_517  =   df_517.loc[is_country]\n",
    "df_517_ref  =  df_517[['iso_code', 'country','oil_electricity']]\n",
    "df_517_oil_electricity = df_517_ref.nlargest(5, 'oil_electricity')\n",
    "ax = df_517_oil_electricity.plot.bar(x='country', rot=0, stacked=True)"
   ]
  },
  {
   "cell_type": "markdown",
   "metadata": {},
   "source": [
    "##### 5.1.8 Countries that currently (2019) produce the most electricity out of solar"
   ]
  },
  {
   "cell_type": "code",
   "execution_count": 164,
   "metadata": {},
   "outputs": [
    {
     "data": {
      "image/png": "[encoded data removed]",
      "text/plain": [
       "<Figure size 432x288 with 1 Axes>"
      ]
     },
     "metadata": {
      "needs_background": "light"
     },
     "output_type": "display_data"
    }
   ],
   "source": [
    "df_518 = wdf\n",
    "target_year_518 = 2019\n",
    "is_2019 =  df_518['year'] == target_year_518\n",
    "is_country = np.logical_and(df_518['iso_code'] != 'OWID_WRL', df_518['iso_code'].notnull())\n",
    "df_518  =  df_518.loc[is_2019]\n",
    "df_518  =   df_518.loc[is_country]\n",
    "df_518_ref  =  df_518[['iso_code', 'country','solar_electricity']]\n",
    "df_518_solar_electricity = df_518_ref.nlargest(5, 'solar_electricity')\n",
    "ax = df_518_solar_electricity.plot.bar(x='country', rot=0, stacked=True)"
   ]
  },
  {
   "cell_type": "markdown",
   "metadata": {},
   "source": [
    "##### 5.1.9 Countries that currently (2019) produce the most electricity out of wind"
   ]
  },
  {
   "cell_type": "code",
   "execution_count": 165,
   "metadata": {},
   "outputs": [
    {
     "data": {
      "image/png": "[encoded data removed]",
      "text/plain": [
       "<Figure size 432x288 with 1 Axes>"
      ]
     },
     "metadata": {
      "needs_background": "light"
     },
     "output_type": "display_data"
    }
   ],
   "source": [
    "df_519 = wdf\n",
    "target_year_519 = 2019\n",
    "is_2019 =  df_519['year'] == target_year_519\n",
    "is_country = np.logical_and(df_519['iso_code'] != 'OWID_WRL', df_519['iso_code'].notnull())\n",
    "df_519  =  df_519.loc[is_2019]\n",
    "df_519  =   df_519.loc[is_country]\n",
    "df_519_ref  =  df_519[['iso_code', 'country','wind_electricity']]\n",
    "df_519_solar_electricity = df_519_ref.nlargest(5, 'wind_electricity')\n",
    "ax = df_519_solar_electricity.plot.bar(x='country', rot=0, stacked=True)"
   ]
  },
  {
   "cell_type": "markdown",
   "metadata": {},
   "source": [
    "##### 5.2.1 Countries that currently (2019) consume the most electricity per capita (independent of type)\n"
   ]
  },
  {
   "cell_type": "code",
   "execution_count": 185,
   "metadata": {},
   "outputs": [
    {
     "name": "stderr",
     "output_type": "stream",
     "text": [
      "<ipython-input-185-58f2caa84641>:6: UserWarning: Boolean Series key will be reindexed to match DataFrame index.\n",
      "  df_521  = df_521[is_country]\n"
     ]
    },
    {
     "data": {
      "image/png": "[encoded data removed]",
      "text/plain": [
       "<Figure size 720x360 with 1 Axes>"
      ]
     },
     "metadata": {
      "needs_background": "light"
     },
     "output_type": "display_data"
    }
   ],
   "source": [
    "df_521 = wdf\n",
    "target_year_521 = 2019\n",
    "is_2019 =  df_521['year'] == target_year_521\n",
    "is_country = np.logical_and(df_521['iso_code'] != 'OWID_WRL', df_521['iso_code'].notnull())\n",
    "df_521  =  df_521[is_2019]\n",
    "df_521  = df_521[is_country]\n",
    "df_521_ref  =  df_521[['iso_code', 'country', 'per_capita_electricity']]\n",
    "# select the top 5 - total\n",
    "df_521_electricity_capita_5 = df_521_ref.nlargest(5, 'per_capita_electricity')\n",
    "ax = df_521_electricity_capita_5.plot.bar(x='country', y='per_capita_electricity', rot=0, figsize=(10,5))"
   ]
  },
  {
   "cell_type": "code",
   "execution_count": null,
   "metadata": {},
   "outputs": [],
   "source": []
  }
 ],
 "metadata": {
  "kernelspec": {
   "display_name": "Python 3",
   "language": "python",
   "name": "python3"
  },
  "language_info": {
   "codemirror_mode": {
    "name": "ipython",
    "version": 3
   },
   "file_extension": ".py",
   "mimetype": "text/x-python",
   "name": "python",
   "nbconvert_exporter": "python",
   "pygments_lexer": "ipython3",
   "version": "3.8.5"
  }
 },
 "nbformat": 4,
 "nbformat_minor": 4
}
