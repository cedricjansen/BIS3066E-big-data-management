{
 "cells": [
  {
   "cell_type": "markdown",
   "metadata": {},
   "source": [
    "# Big Data Management Workshop II\n",
    "## Team A - Analysis of current cenergy consumption and production as well as future predictions\n",
    "\n",
    "## 1. Questions\n",
    "### 1.1 Descriptive questions:\n",
    "#### 1.1.1 Electricity production:\n",
    "- Done: What are the current top 5 producing countries (total) of biofuel / coal / gas / hydro/ nuclear /oil / solar / wind?\n",
    "- Done Which countries produce the most energy (total) currently?\n",
    "\n",
    "#### 1.1.2 Electricity  consumption:\n",
    "- Done: What are the top 5 consuming countries (total) of biofuel / coal / gas / hydro/ nuclear /oil / solar / wind currently?\n",
    "- Done: Which countries consume the most energy (total / per capita) now?\n",
    "\n",
    "#### 1.1.3 Development of energy consumption and production:\n",
    "- What is the overall development of energy production within the last 30 years? \n",
    "- What is the overall development of energy consumption within the last 30 years? \n",
    "- How is the total and per capita production / consumption distributed across different continents?\n",
    "- Which country made the largest effort to reduce their fossil footprint in the last 10 years? \n",
    "- Who is earth’s biggest winner / looser of the 21st century?\n",
    "\n",
    "### 1.2 Explorative questions:\n",
    "Which country will reach total statistical renewable energy consumption first based on our data?\n",
    "When will Germany reach total statistical renewable energy consumption?\n",
    "When will Germany reach total statistical renewable energy production?\n",
    "\n",
    "\n",
    "\n",
    "### 2. Preparation\n",
    "#### 2.1 Import libraries"
   ]
  },
  {
   "cell_type": "code",
   "execution_count": 1,
   "metadata": {
    "scrolled": true
   },
   "outputs": [
    {
     "name": "stdout",
     "output_type": "stream",
     "text": [
      "Package                            Version\n",
      "---------------------------------- -------------------\n",
      "alabaster                          0.7.12\n",
      "anaconda-client                    1.7.2\n",
      "anaconda-navigator                 1.10.0\n",
      "anaconda-project                   0.8.3\n",
      "argh                               0.26.2\n",
      "argon2-cffi                        20.1.0\n",
      "asn1crypto                         1.4.0\n",
      "astroid                            2.4.2\n",
      "astropy                            4.0.2\n",
      "async-generator                    1.10\n",
      "atomicwrites                       1.4.0\n",
      "attrs                              20.3.0\n",
      "autopep8                           1.5.4\n",
      "Babel                              2.8.1\n",
      "backcall                           0.2.0\n",
      "backports.functools-lru-cache      1.6.1\n",
      "backports.shutil-get-terminal-size 1.0.0\n",
      "backports.tempfile                 1.0\n",
      "backports.weakref                  1.0.post1\n",
      "bcrypt                             3.2.0\n",
      "beautifulsoup4                     4.9.3\n",
      "bitarray                           1.6.1\n",
      "bkcharts                           0.2\n",
      "bleach                             3.2.1\n",
      "bokeh                              2.2.3\n",
      "boto                               2.49.0\n",
      "Bottleneck                         1.3.2\n",
      "brotlipy                           0.7.0\n",
      "certifi                            2020.6.20\n",
      "cffi                               1.14.3\n",
      "chardet                            3.0.4\n",
      "click                              7.1.2\n",
      "cloudpickle                        1.6.0\n",
      "clyent                             1.2.2\n",
      "colorama                           0.4.4\n",
      "comtypes                           1.1.7\n",
      "conda                              4.9.2\n",
      "conda-build                        3.20.5\n",
      "conda-package-handling             1.7.2\n",
      "conda-verify                       3.4.2\n",
      "contextlib2                        0.6.0.post1\n",
      "cryptography                       3.1.1\n",
      "cycler                             0.10.0\n",
      "Cython                             0.29.21\n",
      "cytoolz                            0.11.0\n",
      "dask                               2.30.0\n",
      "decorator                          4.4.2\n",
      "defusedxml                         0.6.0\n",
      "diff-match-patch                   20200713\n",
      "distributed                        2.30.1\n",
      "docutils                           0.16\n",
      "entrypoints                        0.3\n",
      "et-xmlfile                         1.0.1\n",
      "fastcache                          1.1.0\n",
      "filelock                           3.0.12\n",
      "flake8                             3.8.4\n",
      "Flask                              1.1.2\n",
      "fonttools                          4.33.3\n",
      "fsspec                             0.8.3\n",
      "future                             0.18.2\n",
      "gevent                             20.9.0\n",
      "glob2                              0.7\n",
      "greenlet                           0.4.17\n",
      "h5py                               2.10.0\n",
      "HeapDict                           1.0.1\n",
      "html5lib                           1.1\n",
      "idna                               2.10\n",
      "imageio                            2.9.0\n",
      "imagesize                          1.2.0\n",
      "importlib-metadata                 2.0.0\n",
      "iniconfig                          1.1.1\n",
      "intervaltree                       3.1.0\n",
      "ipykernel                          5.3.4\n",
      "ipython                            7.19.0\n",
      "ipython-genutils                   0.2.0\n",
      "ipywidgets                         7.5.1\n",
      "isort                              5.6.4\n",
      "itsdangerous                       1.1.0\n",
      "jdcal                              1.4.1\n",
      "jedi                               0.17.1\n",
      "Jinja2                             2.11.2\n",
      "joblib                             0.17.0\n",
      "json5                              0.9.5\n",
      "jsonschema                         3.2.0\n",
      "jupyter                            1.0.0\n",
      "jupyter-client                     6.1.7\n",
      "jupyter-console                    6.2.0\n",
      "jupyter-core                       4.6.3\n",
      "jupyterlab                         2.2.6\n",
      "jupyterlab-pygments                0.1.2\n",
      "jupyterlab-server                  1.2.0\n",
      "keyring                            21.4.0\n",
      "kiwisolver                         1.3.0\n",
      "lazy-object-proxy                  1.4.3\n",
      "libarchive-c                       2.9\n",
      "llvmlite                           0.34.0\n",
      "locket                             0.2.0\n",
      "lxml                               4.6.1\n",
      "MarkupSafe                         1.1.1\n",
      "matplotlib                         3.5.2\n",
      "mccabe                             0.6.1\n",
      "menuinst                           1.4.16\n",
      "mistune                            0.8.4\n",
      "mkl-fft                            1.2.0\n",
      "mkl-random                         1.1.1\n",
      "mkl-service                        2.3.0\n",
      "mock                               4.0.2\n",
      "more-itertools                     8.6.0\n",
      "mpmath                             1.1.0\n",
      "msgpack                            1.0.0\n",
      "multipledispatch                   0.6.0\n",
      "navigator-updater                  0.2.1\n",
      "nbclient                           0.5.1\n",
      "nbconvert                          6.0.7\n",
      "nbformat                           5.0.8\n",
      "nest-asyncio                       1.4.2\n",
      "networkx                           2.5\n",
      "nltk                               3.5\n",
      "nose                               1.3.7\n",
      "notebook                           6.1.4\n",
      "numba                              0.51.2\n",
      "numexpr                            2.7.1\n",
      "numpy                              1.19.2\n",
      "numpydoc                           1.1.0\n",
      "olefile                            0.46\n",
      "openpyxl                           3.0.5\n",
      "packaging                          20.4\n",
      "pandas                             1.1.3\n",
      "pandocfilters                      1.4.3\n",
      "paramiko                           2.7.2\n",
      "parso                              0.7.0\n",
      "partd                              1.1.0\n",
      "path                               15.0.0\n",
      "pathlib2                           2.3.5\n",
      "pathtools                          0.1.2\n",
      "patsy                              0.5.1\n",
      "pep8                               1.7.1\n",
      "pexpect                            4.8.0\n",
      "pickleshare                        0.7.5\n",
      "Pillow                             8.0.1\n",
      "pip                                20.2.4\n",
      "pkginfo                            1.6.1\n",
      "pluggy                             0.13.1\n",
      "ply                                3.11\n",
      "prometheus-client                  0.8.0\n",
      "prompt-toolkit                     3.0.8\n",
      "psutil                             5.7.2\n",
      "py                                 1.9.0\n",
      "pycodestyle                        2.6.0\n",
      "pycosat                            0.6.3\n",
      "pycparser                          2.20\n",
      "pycurl                             7.43.0.6\n",
      "pydocstyle                         5.1.1\n",
      "pyflakes                           2.2.0\n",
      "Pygments                           2.7.2\n",
      "pylint                             2.6.0\n",
      "PyNaCl                             1.4.0\n",
      "pyodbc                             4.0.0-unsupported\n",
      "pyOpenSSL                          19.1.0\n",
      "pyparsing                          2.4.7\n",
      "pyreadline                         2.1\n",
      "pyrsistent                         0.17.3\n",
      "PySocks                            1.7.1\n",
      "pytest                             0.0.0\n",
      "python-dateutil                    2.8.1\n",
      "python-jsonrpc-server              0.4.0\n",
      "python-language-server             0.35.1\n",
      "pytz                               2020.1\n",
      "PyWavelets                         1.1.1\n",
      "pywin32                            227\n",
      "pywin32-ctypes                     0.2.0\n",
      "pywinpty                           0.5.7\n",
      "PyYAML                             5.3.1\n",
      "pyzmq                              19.0.2\n",
      "QDarkStyle                         2.8.1\n",
      "QtAwesome                          1.0.1\n",
      "qtconsole                          4.7.7\n",
      "QtPy                               1.9.0\n",
      "regex                              2020.10.15\n",
      "requests                           2.24.0\n",
      "rope                               0.18.0\n",
      "Rtree                              0.9.4\n",
      "ruamel-yaml                        0.15.87\n",
      "scikit-image                       0.17.2\n",
      "scikit-learn                       0.23.2\n",
      "scipy                              1.5.2\n",
      "seaborn                            0.11.0\n",
      "Send2Trash                         1.5.0\n",
      "setuptools                         50.3.1.post20201107\n",
      "simplegeneric                      0.8.1\n",
      "singledispatch                     3.4.0.3\n",
      "sip                                4.19.13\n",
      "six                                1.15.0\n",
      "snowballstemmer                    2.0.0\n",
      "sortedcollections                  1.2.1\n",
      "sortedcontainers                   2.2.2\n",
      "soupsieve                          2.0.1\n",
      "Sphinx                             3.2.1\n",
      "sphinxcontrib-applehelp            1.0.2\n",
      "sphinxcontrib-devhelp              1.0.2\n",
      "sphinxcontrib-htmlhelp             1.0.3\n",
      "sphinxcontrib-jsmath               1.0.1\n",
      "sphinxcontrib-qthelp               1.0.3\n",
      "sphinxcontrib-serializinghtml      1.1.4\n",
      "sphinxcontrib-websupport           1.2.4\n",
      "spyder                             4.1.5\n",
      "spyder-kernels                     1.9.4\n",
      "SQLAlchemy                         1.3.20\n",
      "statsmodels                        0.12.0\n",
      "sympy                              1.6.2\n",
      "tables                             3.6.1\n",
      "tblib                              1.7.0\n",
      "terminado                          0.9.1\n",
      "testpath                           0.4.4\n",
      "threadpoolctl                      2.1.0\n",
      "tifffile                           2020.10.1\n",
      "toml                               0.10.1\n",
      "toolz                              0.11.1\n",
      "tornado                            6.0.4\n",
      "tqdm                               4.50.2\n",
      "traitlets                          5.0.5\n",
      "typing-extensions                  3.7.4.3\n",
      "ujson                              4.0.1\n",
      "unicodecsv                         0.14.1\n",
      "urllib3                            1.25.11\n",
      "watchdog                           0.10.3\n",
      "wcwidth                            0.2.5\n",
      "webencodings                       0.5.1\n",
      "Werkzeug                           1.0.1\n",
      "wheel                              0.35.1\n",
      "widgetsnbextension                 3.5.1\n",
      "win-inet-pton                      1.1.0\n",
      "win-unicode-console                0.5\n",
      "wincertstore                       0.2\n",
      "wrapt                              1.11.2\n",
      "xlrd                               1.2.0\n",
      "XlsxWriter                         1.3.7\n",
      "xlwings                            0.20.8\n",
      "xlwt                               1.3.0\n",
      "xmltodict                          0.12.0\n",
      "yapf                               0.30.0\n",
      "zict                               2.0.0\n",
      "zipp                               3.4.0\n",
      "zope.event                         4.5.0\n",
      "zope.interface                     5.1.2\n"
     ]
    }
   ],
   "source": [
    "#!pip install --upgrade matplotlib\n",
    "!pip list"
   ]
  },
  {
   "cell_type": "code",
   "execution_count": 2,
   "metadata": {},
   "outputs": [],
   "source": [
    "import pandas as pd\n",
    "import numpy as np\n"
   ]
  },
  {
   "cell_type": "markdown",
   "metadata": {},
   "source": [
    "#### 2.2 Import the dataset World Energy Consumption\n",
    "To work with the data we import it from the csv file into a pandas dataframe object"
   ]
  },
  {
   "cell_type": "code",
   "execution_count": 3,
   "metadata": {},
   "outputs": [],
   "source": [
    "df = pd.read_csv(\"WorldEnergyConsumption.csv\",sep=\",\")"
   ]
  },
  {
   "cell_type": "markdown",
   "metadata": {},
   "source": [
    "#### 2.3 Exploration of data\n",
    "To work with the data, we take a look at the columns and general shape of the data."
   ]
  },
  {
   "cell_type": "code",
   "execution_count": 4,
   "metadata": {},
   "outputs": [
    {
     "name": "stdout",
     "output_type": "stream",
     "text": [
      "<class 'pandas.core.frame.DataFrame'>\n",
      "RangeIndex: 17432 entries, 0 to 17431\n",
      "Columns: 122 entries, iso_code to wind_energy_per_capita\n",
      "dtypes: float64(119), int64(1), object(2)\n",
      "memory usage: 16.2+ MB\n"
     ]
    }
   ],
   "source": [
    "df.info()"
   ]
  },
  {
   "cell_type": "code",
   "execution_count": 5,
   "metadata": {
    "scrolled": true
   },
   "outputs": [
    {
     "data": {
      "text/html": [
       "<div>\n",
       "<style scoped>\n",
       "    .dataframe tbody tr th:only-of-type {\n",
       "        vertical-align: middle;\n",
       "    }\n",
       "\n",
       "    .dataframe tbody tr th {\n",
       "        vertical-align: top;\n",
       "    }\n",
       "\n",
       "    .dataframe thead th {\n",
       "        text-align: right;\n",
       "    }\n",
       "</style>\n",
       "<table border=\"1\" class=\"dataframe\">\n",
       "  <thead>\n",
       "    <tr style=\"text-align: right;\">\n",
       "      <th></th>\n",
       "      <th>year</th>\n",
       "      <th>coal_prod_change_pct</th>\n",
       "      <th>coal_prod_change_twh</th>\n",
       "      <th>gas_prod_change_pct</th>\n",
       "      <th>gas_prod_change_twh</th>\n",
       "      <th>oil_prod_change_pct</th>\n",
       "      <th>oil_prod_change_twh</th>\n",
       "      <th>energy_cons_change_pct</th>\n",
       "      <th>energy_cons_change_twh</th>\n",
       "      <th>biofuel_share_elec</th>\n",
       "      <th>...</th>\n",
       "      <th>solar_elec_per_capita</th>\n",
       "      <th>solar_energy_per_capita</th>\n",
       "      <th>gdp</th>\n",
       "      <th>wind_share_elec</th>\n",
       "      <th>wind_cons_change_pct</th>\n",
       "      <th>wind_share_energy</th>\n",
       "      <th>wind_cons_change_twh</th>\n",
       "      <th>wind_consumption</th>\n",
       "      <th>wind_elec_per_capita</th>\n",
       "      <th>wind_energy_per_capita</th>\n",
       "    </tr>\n",
       "  </thead>\n",
       "  <tbody>\n",
       "    <tr>\n",
       "      <th>count</th>\n",
       "      <td>17432.000000</td>\n",
       "      <td>7445.000000</td>\n",
       "      <td>10394.000000</td>\n",
       "      <td>4.862000e+03</td>\n",
       "      <td>7893.000000</td>\n",
       "      <td>6521.000000</td>\n",
       "      <td>8565.000000</td>\n",
       "      <td>9842.00000</td>\n",
       "      <td>9892.000000</td>\n",
       "      <td>4206.000000</td>\n",
       "      <td>...</td>\n",
       "      <td>5499.000000</td>\n",
       "      <td>4290.000000</td>\n",
       "      <td>1.045600e+04</td>\n",
       "      <td>6076.000000</td>\n",
       "      <td>1543.000000</td>\n",
       "      <td>4284.000000</td>\n",
       "      <td>4207.000000</td>\n",
       "      <td>4290.000000</td>\n",
       "      <td>5499.000000</td>\n",
       "      <td>4290.000000</td>\n",
       "    </tr>\n",
       "    <tr>\n",
       "      <th>mean</th>\n",
       "      <td>1973.094367</td>\n",
       "      <td>20.830774</td>\n",
       "      <td>8.798102</td>\n",
       "      <td>1.921623e+14</td>\n",
       "      <td>14.369018</td>\n",
       "      <td>18.242190</td>\n",
       "      <td>18.033792</td>\n",
       "      <td>inf</td>\n",
       "      <td>36.853247</td>\n",
       "      <td>1.549155</td>\n",
       "      <td>...</td>\n",
       "      <td>14.776571</td>\n",
       "      <td>29.375128</td>\n",
       "      <td>5.417833e+11</td>\n",
       "      <td>1.006011</td>\n",
       "      <td>313.478014</td>\n",
       "      <td>0.345406</td>\n",
       "      <td>2.163830</td>\n",
       "      <td>15.080935</td>\n",
       "      <td>53.625783</td>\n",
       "      <td>134.003056</td>\n",
       "    </tr>\n",
       "    <tr>\n",
       "      <th>std</th>\n",
       "      <td>34.333995</td>\n",
       "      <td>697.178744</td>\n",
       "      <td>135.503698</td>\n",
       "      <td>1.339910e+16</td>\n",
       "      <td>85.415649</td>\n",
       "      <td>335.492675</td>\n",
       "      <td>169.610587</td>\n",
       "      <td>NaN</td>\n",
       "      <td>267.425811</td>\n",
       "      <td>3.544546</td>\n",
       "      <td>...</td>\n",
       "      <td>58.750432</td>\n",
       "      <td>127.852638</td>\n",
       "      <td>4.083842e+12</td>\n",
       "      <td>3.680550</td>\n",
       "      <td>6836.857935</td>\n",
       "      <td>1.337962</td>\n",
       "      <td>17.013149</td>\n",
       "      <td>126.674141</td>\n",
       "      <td>209.543489</td>\n",
       "      <td>513.368047</td>\n",
       "    </tr>\n",
       "    <tr>\n",
       "      <th>min</th>\n",
       "      <td>1900.000000</td>\n",
       "      <td>-100.000000</td>\n",
       "      <td>-2326.870000</td>\n",
       "      <td>-1.000000e+02</td>\n",
       "      <td>-1054.320000</td>\n",
       "      <td>-100.000000</td>\n",
       "      <td>-2239.737000</td>\n",
       "      <td>-92.63200</td>\n",
       "      <td>-6083.407000</td>\n",
       "      <td>0.000000</td>\n",
       "      <td>...</td>\n",
       "      <td>0.000000</td>\n",
       "      <td>0.000000</td>\n",
       "      <td>1.963080e+08</td>\n",
       "      <td>0.000000</td>\n",
       "      <td>-100.000000</td>\n",
       "      <td>0.000000</td>\n",
       "      <td>-10.409000</td>\n",
       "      <td>0.000000</td>\n",
       "      <td>0.000000</td>\n",
       "      <td>0.000000</td>\n",
       "    </tr>\n",
       "    <tr>\n",
       "      <th>25%</th>\n",
       "      <td>1946.000000</td>\n",
       "      <td>-1.532000</td>\n",
       "      <td>0.000000</td>\n",
       "      <td>0.000000e+00</td>\n",
       "      <td>0.000000</td>\n",
       "      <td>-1.429000</td>\n",
       "      <td>0.000000</td>\n",
       "      <td>-0.43075</td>\n",
       "      <td>-0.044000</td>\n",
       "      <td>0.000000</td>\n",
       "      <td>...</td>\n",
       "      <td>0.000000</td>\n",
       "      <td>0.000000</td>\n",
       "      <td>1.253804e+10</td>\n",
       "      <td>0.000000</td>\n",
       "      <td>2.159500</td>\n",
       "      <td>0.000000</td>\n",
       "      <td>0.000000</td>\n",
       "      <td>0.000000</td>\n",
       "      <td>0.000000</td>\n",
       "      <td>0.000000</td>\n",
       "    </tr>\n",
       "    <tr>\n",
       "      <th>50%</th>\n",
       "      <td>1983.000000</td>\n",
       "      <td>0.000000</td>\n",
       "      <td>0.000000</td>\n",
       "      <td>2.583500e+00</td>\n",
       "      <td>0.000000</td>\n",
       "      <td>0.278000</td>\n",
       "      <td>0.000000</td>\n",
       "      <td>2.56700</td>\n",
       "      <td>0.735500</td>\n",
       "      <td>0.021500</td>\n",
       "      <td>...</td>\n",
       "      <td>0.000000</td>\n",
       "      <td>0.000000</td>\n",
       "      <td>4.281649e+10</td>\n",
       "      <td>0.000000</td>\n",
       "      <td>19.749000</td>\n",
       "      <td>0.000000</td>\n",
       "      <td>0.000000</td>\n",
       "      <td>0.000000</td>\n",
       "      <td>0.000000</td>\n",
       "      <td>0.000000</td>\n",
       "    </tr>\n",
       "    <tr>\n",
       "      <th>75%</th>\n",
       "      <td>2002.000000</td>\n",
       "      <td>7.690000</td>\n",
       "      <td>0.334000</td>\n",
       "      <td>9.703500e+00</td>\n",
       "      <td>2.559000</td>\n",
       "      <td>9.091000</td>\n",
       "      <td>3.222000</td>\n",
       "      <td>6.87650</td>\n",
       "      <td>10.328250</td>\n",
       "      <td>1.362750</td>\n",
       "      <td>...</td>\n",
       "      <td>0.794000</td>\n",
       "      <td>0.295500</td>\n",
       "      <td>1.750000e+11</td>\n",
       "      <td>0.108250</td>\n",
       "      <td>50.000000</td>\n",
       "      <td>0.020000</td>\n",
       "      <td>0.010000</td>\n",
       "      <td>0.141000</td>\n",
       "      <td>3.046500</td>\n",
       "      <td>4.744750</td>\n",
       "    </tr>\n",
       "    <tr>\n",
       "      <th>max</th>\n",
       "      <td>2020.000000</td>\n",
       "      <td>44965.754000</td>\n",
       "      <td>3060.593000</td>\n",
       "      <td>9.342930e+17</td>\n",
       "      <td>2112.975000</td>\n",
       "      <td>25500.000000</td>\n",
       "      <td>2790.614000</td>\n",
       "      <td>inf</td>\n",
       "      <td>6446.809000</td>\n",
       "      <td>33.912000</td>\n",
       "      <td>...</td>\n",
       "      <td>825.094000</td>\n",
       "      <td>1763.675000</td>\n",
       "      <td>1.070000e+14</td>\n",
       "      <td>56.338000</td>\n",
       "      <td>242384.843000</td>\n",
       "      <td>20.660000</td>\n",
       "      <td>428.736000</td>\n",
       "      <td>3540.051000</td>\n",
       "      <td>2825.425000</td>\n",
       "      <td>6928.363000</td>\n",
       "    </tr>\n",
       "  </tbody>\n",
       "</table>\n",
       "<p>8 rows × 120 columns</p>\n",
       "</div>"
      ],
      "text/plain": [
       "               year  coal_prod_change_pct  coal_prod_change_twh  \\\n",
       "count  17432.000000           7445.000000          10394.000000   \n",
       "mean    1973.094367             20.830774              8.798102   \n",
       "std       34.333995            697.178744            135.503698   \n",
       "min     1900.000000           -100.000000          -2326.870000   \n",
       "25%     1946.000000             -1.532000              0.000000   \n",
       "50%     1983.000000              0.000000              0.000000   \n",
       "75%     2002.000000              7.690000              0.334000   \n",
       "max     2020.000000          44965.754000           3060.593000   \n",
       "\n",
       "       gas_prod_change_pct  gas_prod_change_twh  oil_prod_change_pct  \\\n",
       "count         4.862000e+03          7893.000000          6521.000000   \n",
       "mean          1.921623e+14            14.369018            18.242190   \n",
       "std           1.339910e+16            85.415649           335.492675   \n",
       "min          -1.000000e+02         -1054.320000          -100.000000   \n",
       "25%           0.000000e+00             0.000000            -1.429000   \n",
       "50%           2.583500e+00             0.000000             0.278000   \n",
       "75%           9.703500e+00             2.559000             9.091000   \n",
       "max           9.342930e+17          2112.975000         25500.000000   \n",
       "\n",
       "       oil_prod_change_twh  energy_cons_change_pct  energy_cons_change_twh  \\\n",
       "count          8565.000000              9842.00000             9892.000000   \n",
       "mean             18.033792                     inf               36.853247   \n",
       "std             169.610587                     NaN              267.425811   \n",
       "min           -2239.737000               -92.63200            -6083.407000   \n",
       "25%               0.000000                -0.43075               -0.044000   \n",
       "50%               0.000000                 2.56700                0.735500   \n",
       "75%               3.222000                 6.87650               10.328250   \n",
       "max            2790.614000                     inf             6446.809000   \n",
       "\n",
       "       biofuel_share_elec  ...  solar_elec_per_capita  \\\n",
       "count         4206.000000  ...            5499.000000   \n",
       "mean             1.549155  ...              14.776571   \n",
       "std              3.544546  ...              58.750432   \n",
       "min              0.000000  ...               0.000000   \n",
       "25%              0.000000  ...               0.000000   \n",
       "50%              0.021500  ...               0.000000   \n",
       "75%              1.362750  ...               0.794000   \n",
       "max             33.912000  ...             825.094000   \n",
       "\n",
       "       solar_energy_per_capita           gdp  wind_share_elec  \\\n",
       "count              4290.000000  1.045600e+04      6076.000000   \n",
       "mean                 29.375128  5.417833e+11         1.006011   \n",
       "std                 127.852638  4.083842e+12         3.680550   \n",
       "min                   0.000000  1.963080e+08         0.000000   \n",
       "25%                   0.000000  1.253804e+10         0.000000   \n",
       "50%                   0.000000  4.281649e+10         0.000000   \n",
       "75%                   0.295500  1.750000e+11         0.108250   \n",
       "max                1763.675000  1.070000e+14        56.338000   \n",
       "\n",
       "       wind_cons_change_pct  wind_share_energy  wind_cons_change_twh  \\\n",
       "count           1543.000000        4284.000000           4207.000000   \n",
       "mean             313.478014           0.345406              2.163830   \n",
       "std             6836.857935           1.337962             17.013149   \n",
       "min             -100.000000           0.000000            -10.409000   \n",
       "25%                2.159500           0.000000              0.000000   \n",
       "50%               19.749000           0.000000              0.000000   \n",
       "75%               50.000000           0.020000              0.010000   \n",
       "max           242384.843000          20.660000            428.736000   \n",
       "\n",
       "       wind_consumption  wind_elec_per_capita  wind_energy_per_capita  \n",
       "count       4290.000000           5499.000000             4290.000000  \n",
       "mean          15.080935             53.625783              134.003056  \n",
       "std          126.674141            209.543489              513.368047  \n",
       "min            0.000000              0.000000                0.000000  \n",
       "25%            0.000000              0.000000                0.000000  \n",
       "50%            0.000000              0.000000                0.000000  \n",
       "75%            0.141000              3.046500                4.744750  \n",
       "max         3540.051000           2825.425000             6928.363000  \n",
       "\n",
       "[8 rows x 120 columns]"
      ]
     },
     "execution_count": 5,
     "metadata": {},
     "output_type": "execute_result"
    }
   ],
   "source": [
    "df.describe()"
   ]
  },
  {
   "cell_type": "code",
   "execution_count": 6,
   "metadata": {},
   "outputs": [
    {
     "data": {
      "text/plain": [
       "(17432, 122)"
      ]
     },
     "execution_count": 6,
     "metadata": {},
     "output_type": "execute_result"
    }
   ],
   "source": [
    "df.shape"
   ]
  },
  {
   "cell_type": "code",
   "execution_count": 7,
   "metadata": {},
   "outputs": [
    {
     "name": "stdout",
     "output_type": "stream",
     "text": [
      "Header names of the data set columns:\n",
      "- iso_code/n\n",
      "- country/n\n",
      "- year/n\n",
      "- coal_prod_change_pct/n\n",
      "- coal_prod_change_twh/n\n",
      "- gas_prod_change_pct/n\n",
      "- gas_prod_change_twh/n\n",
      "- oil_prod_change_pct/n\n",
      "- oil_prod_change_twh/n\n",
      "- energy_cons_change_pct/n\n",
      "- energy_cons_change_twh/n\n",
      "- biofuel_share_elec/n\n",
      "- biofuel_elec_per_capita/n\n",
      "- biofuel_cons_change_pct/n\n",
      "- biofuel_share_energy/n\n",
      "- biofuel_cons_change_twh/n\n",
      "- biofuel_consumption/n\n",
      "- biofuel_cons_per_capita/n\n",
      "- carbon_intensity_elec/n\n",
      "- coal_share_elec/n\n",
      "- coal_cons_change_pct/n\n",
      "- coal_share_energy/n\n",
      "- coal_cons_change_twh/n\n",
      "- coal_consumption/n\n",
      "- coal_elec_per_capita/n\n",
      "- coal_cons_per_capita/n\n",
      "- coal_production/n\n",
      "- coal_prod_per_capita/n\n",
      "- electricity_generation/n\n",
      "- biofuel_electricity/n\n",
      "- coal_electricity/n\n",
      "- fossil_electricity/n\n",
      "- gas_electricity/n\n",
      "- hydro_electricity/n\n",
      "- nuclear_electricity/n\n",
      "- oil_electricity/n\n",
      "- other_renewable_electricity/n\n",
      "- other_renewable_exc_biofuel_electricity/n\n",
      "- renewables_electricity/n\n",
      "- solar_electricity/n\n",
      "- wind_electricity/n\n",
      "- energy_per_gdp/n\n",
      "- energy_per_capita/n\n",
      "- fossil_cons_change_pct/n\n",
      "- fossil_share_energy/n\n",
      "- fossil_cons_change_twh/n\n",
      "- fossil_fuel_consumption/n\n",
      "- fossil_energy_per_capita/n\n",
      "- fossil_cons_per_capita/n\n",
      "- fossil_share_elec/n\n",
      "- gas_share_elec/n\n",
      "- gas_cons_change_pct/n\n",
      "- gas_share_energy/n\n",
      "- gas_cons_change_twh/n\n",
      "- gas_consumption/n\n",
      "- gas_elec_per_capita/n\n",
      "- gas_energy_per_capita/n\n",
      "- gas_production/n\n",
      "- gas_prod_per_capita/n\n",
      "- hydro_share_elec/n\n",
      "- hydro_cons_change_pct/n\n",
      "- hydro_share_energy/n\n",
      "- hydro_cons_change_twh/n\n",
      "- hydro_consumption/n\n",
      "- hydro_elec_per_capita/n\n",
      "- hydro_energy_per_capita/n\n",
      "- low_carbon_share_elec/n\n",
      "- low_carbon_electricity/n\n",
      "- low_carbon_elec_per_capita/n\n",
      "- low_carbon_cons_change_pct/n\n",
      "- low_carbon_share_energy/n\n",
      "- low_carbon_cons_change_twh/n\n",
      "- low_carbon_consumption/n\n",
      "- low_carbon_energy_per_capita/n\n",
      "- nuclear_share_elec/n\n",
      "- nuclear_cons_change_pct/n\n",
      "- nuclear_share_energy/n\n",
      "- nuclear_cons_change_twh/n\n",
      "- nuclear_consumption/n\n",
      "- nuclear_elec_per_capita/n\n",
      "- nuclear_energy_per_capita/n\n",
      "- oil_share_elec/n\n",
      "- oil_cons_change_pct/n\n",
      "- oil_share_energy/n\n",
      "- oil_cons_change_twh/n\n",
      "- oil_consumption/n\n",
      "- oil_elec_per_capita/n\n",
      "- oil_energy_per_capita/n\n",
      "- oil_production/n\n",
      "- oil_prod_per_capita/n\n",
      "- other_renewables_elec_per_capita/n\n",
      "- other_renewables_share_elec/n\n",
      "- other_renewables_cons_change_pct/n\n",
      "- other_renewables_share_energy/n\n",
      "- other_renewables_cons_change_twh/n\n",
      "- other_renewable_consumption/n\n",
      "- other_renewables_energy_per_capita/n\n",
      "- per_capita_electricity/n\n",
      "- population/n\n",
      "- primary_energy_consumption/n\n",
      "- renewables_elec_per_capita/n\n",
      "- renewables_share_elec/n\n",
      "- renewables_cons_change_pct/n\n",
      "- renewables_share_energy/n\n",
      "- renewables_cons_change_twh/n\n",
      "- renewables_consumption/n\n",
      "- renewables_energy_per_capita/n\n",
      "- solar_share_elec/n\n",
      "- solar_cons_change_pct/n\n",
      "- solar_share_energy/n\n",
      "- solar_cons_change_twh/n\n",
      "- solar_consumption/n\n",
      "- solar_elec_per_capita/n\n",
      "- solar_energy_per_capita/n\n",
      "- gdp/n\n",
      "- wind_share_elec/n\n",
      "- wind_cons_change_pct/n\n",
      "- wind_share_energy/n\n",
      "- wind_cons_change_twh/n\n",
      "- wind_consumption/n\n",
      "- wind_elec_per_capita/n\n",
      "- wind_energy_per_capita/n\n"
     ]
    }
   ],
   "source": [
    "df_column_list = list(df.columns)\n",
    "print('Header names of the data set columns:' )\n",
    "for val in df_column_list:\n",
    "    print('- ' + val + '/n')\n"
   ]
  },
  {
   "cell_type": "markdown",
   "metadata": {},
   "source": [
    "Let's take a quick look at some data entries to get a better understanding of the data."
   ]
  },
  {
   "cell_type": "code",
   "execution_count": 8,
   "metadata": {
    "scrolled": false
   },
   "outputs": [
    {
     "data": {
      "text/html": [
       "<div>\n",
       "<style scoped>\n",
       "    .dataframe tbody tr th:only-of-type {\n",
       "        vertical-align: middle;\n",
       "    }\n",
       "\n",
       "    .dataframe tbody tr th {\n",
       "        vertical-align: top;\n",
       "    }\n",
       "\n",
       "    .dataframe thead th {\n",
       "        text-align: right;\n",
       "    }\n",
       "</style>\n",
       "<table border=\"1\" class=\"dataframe\">\n",
       "  <thead>\n",
       "    <tr style=\"text-align: right;\">\n",
       "      <th></th>\n",
       "      <th>iso_code</th>\n",
       "      <th>country</th>\n",
       "      <th>year</th>\n",
       "      <th>coal_prod_change_pct</th>\n",
       "      <th>coal_prod_change_twh</th>\n",
       "      <th>gas_prod_change_pct</th>\n",
       "      <th>gas_prod_change_twh</th>\n",
       "      <th>oil_prod_change_pct</th>\n",
       "      <th>oil_prod_change_twh</th>\n",
       "      <th>energy_cons_change_pct</th>\n",
       "      <th>...</th>\n",
       "      <th>solar_elec_per_capita</th>\n",
       "      <th>solar_energy_per_capita</th>\n",
       "      <th>gdp</th>\n",
       "      <th>wind_share_elec</th>\n",
       "      <th>wind_cons_change_pct</th>\n",
       "      <th>wind_share_energy</th>\n",
       "      <th>wind_cons_change_twh</th>\n",
       "      <th>wind_consumption</th>\n",
       "      <th>wind_elec_per_capita</th>\n",
       "      <th>wind_energy_per_capita</th>\n",
       "    </tr>\n",
       "  </thead>\n",
       "  <tbody>\n",
       "    <tr>\n",
       "      <th>0</th>\n",
       "      <td>AFG</td>\n",
       "      <td>Afghanistan</td>\n",
       "      <td>1900</td>\n",
       "      <td>NaN</td>\n",
       "      <td>NaN</td>\n",
       "      <td>NaN</td>\n",
       "      <td>NaN</td>\n",
       "      <td>NaN</td>\n",
       "      <td>NaN</td>\n",
       "      <td>NaN</td>\n",
       "      <td>...</td>\n",
       "      <td>NaN</td>\n",
       "      <td>NaN</td>\n",
       "      <td>NaN</td>\n",
       "      <td>NaN</td>\n",
       "      <td>NaN</td>\n",
       "      <td>NaN</td>\n",
       "      <td>NaN</td>\n",
       "      <td>NaN</td>\n",
       "      <td>NaN</td>\n",
       "      <td>NaN</td>\n",
       "    </tr>\n",
       "    <tr>\n",
       "      <th>1</th>\n",
       "      <td>AFG</td>\n",
       "      <td>Afghanistan</td>\n",
       "      <td>1901</td>\n",
       "      <td>NaN</td>\n",
       "      <td>0.0</td>\n",
       "      <td>NaN</td>\n",
       "      <td>NaN</td>\n",
       "      <td>NaN</td>\n",
       "      <td>NaN</td>\n",
       "      <td>NaN</td>\n",
       "      <td>...</td>\n",
       "      <td>NaN</td>\n",
       "      <td>NaN</td>\n",
       "      <td>NaN</td>\n",
       "      <td>NaN</td>\n",
       "      <td>NaN</td>\n",
       "      <td>NaN</td>\n",
       "      <td>NaN</td>\n",
       "      <td>NaN</td>\n",
       "      <td>NaN</td>\n",
       "      <td>NaN</td>\n",
       "    </tr>\n",
       "    <tr>\n",
       "      <th>2</th>\n",
       "      <td>AFG</td>\n",
       "      <td>Afghanistan</td>\n",
       "      <td>1902</td>\n",
       "      <td>NaN</td>\n",
       "      <td>0.0</td>\n",
       "      <td>NaN</td>\n",
       "      <td>NaN</td>\n",
       "      <td>NaN</td>\n",
       "      <td>NaN</td>\n",
       "      <td>NaN</td>\n",
       "      <td>...</td>\n",
       "      <td>NaN</td>\n",
       "      <td>NaN</td>\n",
       "      <td>NaN</td>\n",
       "      <td>NaN</td>\n",
       "      <td>NaN</td>\n",
       "      <td>NaN</td>\n",
       "      <td>NaN</td>\n",
       "      <td>NaN</td>\n",
       "      <td>NaN</td>\n",
       "      <td>NaN</td>\n",
       "    </tr>\n",
       "    <tr>\n",
       "      <th>3</th>\n",
       "      <td>AFG</td>\n",
       "      <td>Afghanistan</td>\n",
       "      <td>1903</td>\n",
       "      <td>NaN</td>\n",
       "      <td>0.0</td>\n",
       "      <td>NaN</td>\n",
       "      <td>NaN</td>\n",
       "      <td>NaN</td>\n",
       "      <td>NaN</td>\n",
       "      <td>NaN</td>\n",
       "      <td>...</td>\n",
       "      <td>NaN</td>\n",
       "      <td>NaN</td>\n",
       "      <td>NaN</td>\n",
       "      <td>NaN</td>\n",
       "      <td>NaN</td>\n",
       "      <td>NaN</td>\n",
       "      <td>NaN</td>\n",
       "      <td>NaN</td>\n",
       "      <td>NaN</td>\n",
       "      <td>NaN</td>\n",
       "    </tr>\n",
       "    <tr>\n",
       "      <th>4</th>\n",
       "      <td>AFG</td>\n",
       "      <td>Afghanistan</td>\n",
       "      <td>1904</td>\n",
       "      <td>NaN</td>\n",
       "      <td>0.0</td>\n",
       "      <td>NaN</td>\n",
       "      <td>NaN</td>\n",
       "      <td>NaN</td>\n",
       "      <td>NaN</td>\n",
       "      <td>NaN</td>\n",
       "      <td>...</td>\n",
       "      <td>NaN</td>\n",
       "      <td>NaN</td>\n",
       "      <td>NaN</td>\n",
       "      <td>NaN</td>\n",
       "      <td>NaN</td>\n",
       "      <td>NaN</td>\n",
       "      <td>NaN</td>\n",
       "      <td>NaN</td>\n",
       "      <td>NaN</td>\n",
       "      <td>NaN</td>\n",
       "    </tr>\n",
       "    <tr>\n",
       "      <th>5</th>\n",
       "      <td>AFG</td>\n",
       "      <td>Afghanistan</td>\n",
       "      <td>1905</td>\n",
       "      <td>NaN</td>\n",
       "      <td>0.0</td>\n",
       "      <td>NaN</td>\n",
       "      <td>NaN</td>\n",
       "      <td>NaN</td>\n",
       "      <td>NaN</td>\n",
       "      <td>NaN</td>\n",
       "      <td>...</td>\n",
       "      <td>NaN</td>\n",
       "      <td>NaN</td>\n",
       "      <td>NaN</td>\n",
       "      <td>NaN</td>\n",
       "      <td>NaN</td>\n",
       "      <td>NaN</td>\n",
       "      <td>NaN</td>\n",
       "      <td>NaN</td>\n",
       "      <td>NaN</td>\n",
       "      <td>NaN</td>\n",
       "    </tr>\n",
       "    <tr>\n",
       "      <th>6</th>\n",
       "      <td>AFG</td>\n",
       "      <td>Afghanistan</td>\n",
       "      <td>1906</td>\n",
       "      <td>NaN</td>\n",
       "      <td>0.0</td>\n",
       "      <td>NaN</td>\n",
       "      <td>NaN</td>\n",
       "      <td>NaN</td>\n",
       "      <td>NaN</td>\n",
       "      <td>NaN</td>\n",
       "      <td>...</td>\n",
       "      <td>NaN</td>\n",
       "      <td>NaN</td>\n",
       "      <td>NaN</td>\n",
       "      <td>NaN</td>\n",
       "      <td>NaN</td>\n",
       "      <td>NaN</td>\n",
       "      <td>NaN</td>\n",
       "      <td>NaN</td>\n",
       "      <td>NaN</td>\n",
       "      <td>NaN</td>\n",
       "    </tr>\n",
       "    <tr>\n",
       "      <th>7</th>\n",
       "      <td>AFG</td>\n",
       "      <td>Afghanistan</td>\n",
       "      <td>1907</td>\n",
       "      <td>NaN</td>\n",
       "      <td>0.0</td>\n",
       "      <td>NaN</td>\n",
       "      <td>NaN</td>\n",
       "      <td>NaN</td>\n",
       "      <td>NaN</td>\n",
       "      <td>NaN</td>\n",
       "      <td>...</td>\n",
       "      <td>NaN</td>\n",
       "      <td>NaN</td>\n",
       "      <td>NaN</td>\n",
       "      <td>NaN</td>\n",
       "      <td>NaN</td>\n",
       "      <td>NaN</td>\n",
       "      <td>NaN</td>\n",
       "      <td>NaN</td>\n",
       "      <td>NaN</td>\n",
       "      <td>NaN</td>\n",
       "    </tr>\n",
       "    <tr>\n",
       "      <th>8</th>\n",
       "      <td>AFG</td>\n",
       "      <td>Afghanistan</td>\n",
       "      <td>1908</td>\n",
       "      <td>NaN</td>\n",
       "      <td>0.0</td>\n",
       "      <td>NaN</td>\n",
       "      <td>NaN</td>\n",
       "      <td>NaN</td>\n",
       "      <td>NaN</td>\n",
       "      <td>NaN</td>\n",
       "      <td>...</td>\n",
       "      <td>NaN</td>\n",
       "      <td>NaN</td>\n",
       "      <td>NaN</td>\n",
       "      <td>NaN</td>\n",
       "      <td>NaN</td>\n",
       "      <td>NaN</td>\n",
       "      <td>NaN</td>\n",
       "      <td>NaN</td>\n",
       "      <td>NaN</td>\n",
       "      <td>NaN</td>\n",
       "    </tr>\n",
       "    <tr>\n",
       "      <th>9</th>\n",
       "      <td>AFG</td>\n",
       "      <td>Afghanistan</td>\n",
       "      <td>1909</td>\n",
       "      <td>NaN</td>\n",
       "      <td>0.0</td>\n",
       "      <td>NaN</td>\n",
       "      <td>NaN</td>\n",
       "      <td>NaN</td>\n",
       "      <td>NaN</td>\n",
       "      <td>NaN</td>\n",
       "      <td>...</td>\n",
       "      <td>NaN</td>\n",
       "      <td>NaN</td>\n",
       "      <td>NaN</td>\n",
       "      <td>NaN</td>\n",
       "      <td>NaN</td>\n",
       "      <td>NaN</td>\n",
       "      <td>NaN</td>\n",
       "      <td>NaN</td>\n",
       "      <td>NaN</td>\n",
       "      <td>NaN</td>\n",
       "    </tr>\n",
       "  </tbody>\n",
       "</table>\n",
       "<p>10 rows × 122 columns</p>\n",
       "</div>"
      ],
      "text/plain": [
       "  iso_code      country  year  coal_prod_change_pct  coal_prod_change_twh  \\\n",
       "0      AFG  Afghanistan  1900                   NaN                   NaN   \n",
       "1      AFG  Afghanistan  1901                   NaN                   0.0   \n",
       "2      AFG  Afghanistan  1902                   NaN                   0.0   \n",
       "3      AFG  Afghanistan  1903                   NaN                   0.0   \n",
       "4      AFG  Afghanistan  1904                   NaN                   0.0   \n",
       "5      AFG  Afghanistan  1905                   NaN                   0.0   \n",
       "6      AFG  Afghanistan  1906                   NaN                   0.0   \n",
       "7      AFG  Afghanistan  1907                   NaN                   0.0   \n",
       "8      AFG  Afghanistan  1908                   NaN                   0.0   \n",
       "9      AFG  Afghanistan  1909                   NaN                   0.0   \n",
       "\n",
       "   gas_prod_change_pct  gas_prod_change_twh  oil_prod_change_pct  \\\n",
       "0                  NaN                  NaN                  NaN   \n",
       "1                  NaN                  NaN                  NaN   \n",
       "2                  NaN                  NaN                  NaN   \n",
       "3                  NaN                  NaN                  NaN   \n",
       "4                  NaN                  NaN                  NaN   \n",
       "5                  NaN                  NaN                  NaN   \n",
       "6                  NaN                  NaN                  NaN   \n",
       "7                  NaN                  NaN                  NaN   \n",
       "8                  NaN                  NaN                  NaN   \n",
       "9                  NaN                  NaN                  NaN   \n",
       "\n",
       "   oil_prod_change_twh  energy_cons_change_pct  ...  solar_elec_per_capita  \\\n",
       "0                  NaN                     NaN  ...                    NaN   \n",
       "1                  NaN                     NaN  ...                    NaN   \n",
       "2                  NaN                     NaN  ...                    NaN   \n",
       "3                  NaN                     NaN  ...                    NaN   \n",
       "4                  NaN                     NaN  ...                    NaN   \n",
       "5                  NaN                     NaN  ...                    NaN   \n",
       "6                  NaN                     NaN  ...                    NaN   \n",
       "7                  NaN                     NaN  ...                    NaN   \n",
       "8                  NaN                     NaN  ...                    NaN   \n",
       "9                  NaN                     NaN  ...                    NaN   \n",
       "\n",
       "   solar_energy_per_capita  gdp  wind_share_elec  wind_cons_change_pct  \\\n",
       "0                      NaN  NaN              NaN                   NaN   \n",
       "1                      NaN  NaN              NaN                   NaN   \n",
       "2                      NaN  NaN              NaN                   NaN   \n",
       "3                      NaN  NaN              NaN                   NaN   \n",
       "4                      NaN  NaN              NaN                   NaN   \n",
       "5                      NaN  NaN              NaN                   NaN   \n",
       "6                      NaN  NaN              NaN                   NaN   \n",
       "7                      NaN  NaN              NaN                   NaN   \n",
       "8                      NaN  NaN              NaN                   NaN   \n",
       "9                      NaN  NaN              NaN                   NaN   \n",
       "\n",
       "   wind_share_energy  wind_cons_change_twh  wind_consumption  \\\n",
       "0                NaN                   NaN               NaN   \n",
       "1                NaN                   NaN               NaN   \n",
       "2                NaN                   NaN               NaN   \n",
       "3                NaN                   NaN               NaN   \n",
       "4                NaN                   NaN               NaN   \n",
       "5                NaN                   NaN               NaN   \n",
       "6                NaN                   NaN               NaN   \n",
       "7                NaN                   NaN               NaN   \n",
       "8                NaN                   NaN               NaN   \n",
       "9                NaN                   NaN               NaN   \n",
       "\n",
       "   wind_elec_per_capita  wind_energy_per_capita  \n",
       "0                   NaN                     NaN  \n",
       "1                   NaN                     NaN  \n",
       "2                   NaN                     NaN  \n",
       "3                   NaN                     NaN  \n",
       "4                   NaN                     NaN  \n",
       "5                   NaN                     NaN  \n",
       "6                   NaN                     NaN  \n",
       "7                   NaN                     NaN  \n",
       "8                   NaN                     NaN  \n",
       "9                   NaN                     NaN  \n",
       "\n",
       "[10 rows x 122 columns]"
      ]
     },
     "execution_count": 8,
     "metadata": {},
     "output_type": "execute_result"
    }
   ],
   "source": [
    "df.head(10)"
   ]
  },
  {
   "cell_type": "markdown",
   "metadata": {},
   "source": [
    "### 3. Cleansing and restructuring of the data\n",
    "To work with the data, we have to remove unusable and not relevant data as well as missing data points.\n",
    "\n",
    "1. Look for null values and whether they can be reduced or should be kept (more data in the row)\n",
    "2. Look for empty rows\n",
    "3. Looking for duplicates"
   ]
  },
  {
   "cell_type": "markdown",
   "metadata": {},
   "source": [
    "#### 3.1 Looking for null values\n",
    "Check if there are any null values in the dataset. From the exploration before we know that there have to be at least some."
   ]
  },
  {
   "cell_type": "code",
   "execution_count": 9,
   "metadata": {
    "scrolled": true
   },
   "outputs": [
    {
     "data": {
      "text/html": [
       "<div>\n",
       "<style scoped>\n",
       "    .dataframe tbody tr th:only-of-type {\n",
       "        vertical-align: middle;\n",
       "    }\n",
       "\n",
       "    .dataframe tbody tr th {\n",
       "        vertical-align: top;\n",
       "    }\n",
       "\n",
       "    .dataframe thead th {\n",
       "        text-align: right;\n",
       "    }\n",
       "</style>\n",
       "<table border=\"1\" class=\"dataframe\">\n",
       "  <thead>\n",
       "    <tr style=\"text-align: right;\">\n",
       "      <th></th>\n",
       "      <th>iso_code</th>\n",
       "      <th>country</th>\n",
       "      <th>year</th>\n",
       "      <th>coal_prod_change_pct</th>\n",
       "      <th>coal_prod_change_twh</th>\n",
       "      <th>gas_prod_change_pct</th>\n",
       "      <th>gas_prod_change_twh</th>\n",
       "      <th>oil_prod_change_pct</th>\n",
       "      <th>oil_prod_change_twh</th>\n",
       "      <th>energy_cons_change_pct</th>\n",
       "      <th>...</th>\n",
       "      <th>solar_elec_per_capita</th>\n",
       "      <th>solar_energy_per_capita</th>\n",
       "      <th>gdp</th>\n",
       "      <th>wind_share_elec</th>\n",
       "      <th>wind_cons_change_pct</th>\n",
       "      <th>wind_share_energy</th>\n",
       "      <th>wind_cons_change_twh</th>\n",
       "      <th>wind_consumption</th>\n",
       "      <th>wind_elec_per_capita</th>\n",
       "      <th>wind_energy_per_capita</th>\n",
       "    </tr>\n",
       "  </thead>\n",
       "  <tbody>\n",
       "    <tr>\n",
       "      <th>False</th>\n",
       "      <td>15630</td>\n",
       "      <td>17432.0</td>\n",
       "      <td>17432.0</td>\n",
       "      <td>7445</td>\n",
       "      <td>10394</td>\n",
       "      <td>4862</td>\n",
       "      <td>7893</td>\n",
       "      <td>6521</td>\n",
       "      <td>8565</td>\n",
       "      <td>9842</td>\n",
       "      <td>...</td>\n",
       "      <td>5499</td>\n",
       "      <td>4290</td>\n",
       "      <td>10456</td>\n",
       "      <td>6076</td>\n",
       "      <td>1543</td>\n",
       "      <td>4284</td>\n",
       "      <td>4207</td>\n",
       "      <td>4290</td>\n",
       "      <td>5499</td>\n",
       "      <td>4290</td>\n",
       "    </tr>\n",
       "    <tr>\n",
       "      <th>True</th>\n",
       "      <td>1802</td>\n",
       "      <td>NaN</td>\n",
       "      <td>NaN</td>\n",
       "      <td>9987</td>\n",
       "      <td>7038</td>\n",
       "      <td>12570</td>\n",
       "      <td>9539</td>\n",
       "      <td>10911</td>\n",
       "      <td>8867</td>\n",
       "      <td>7590</td>\n",
       "      <td>...</td>\n",
       "      <td>11933</td>\n",
       "      <td>13142</td>\n",
       "      <td>6976</td>\n",
       "      <td>11356</td>\n",
       "      <td>15889</td>\n",
       "      <td>13148</td>\n",
       "      <td>13225</td>\n",
       "      <td>13142</td>\n",
       "      <td>11933</td>\n",
       "      <td>13142</td>\n",
       "    </tr>\n",
       "  </tbody>\n",
       "</table>\n",
       "<p>2 rows × 122 columns</p>\n",
       "</div>"
      ],
      "text/plain": [
       "       iso_code  country     year  coal_prod_change_pct  coal_prod_change_twh  \\\n",
       "False     15630  17432.0  17432.0                  7445                 10394   \n",
       "True       1802      NaN      NaN                  9987                  7038   \n",
       "\n",
       "       gas_prod_change_pct  gas_prod_change_twh  oil_prod_change_pct  \\\n",
       "False                 4862                 7893                 6521   \n",
       "True                 12570                 9539                10911   \n",
       "\n",
       "       oil_prod_change_twh  energy_cons_change_pct  ...  \\\n",
       "False                 8565                    9842  ...   \n",
       "True                  8867                    7590  ...   \n",
       "\n",
       "       solar_elec_per_capita  solar_energy_per_capita    gdp  wind_share_elec  \\\n",
       "False                   5499                     4290  10456             6076   \n",
       "True                   11933                    13142   6976            11356   \n",
       "\n",
       "       wind_cons_change_pct  wind_share_energy  wind_cons_change_twh  \\\n",
       "False                  1543               4284                  4207   \n",
       "True                  15889              13148                 13225   \n",
       "\n",
       "       wind_consumption  wind_elec_per_capita  wind_energy_per_capita  \n",
       "False              4290                  5499                    4290  \n",
       "True              13142                 11933                   13142  \n",
       "\n",
       "[2 rows x 122 columns]"
      ]
     },
     "execution_count": 9,
     "metadata": {},
     "output_type": "execute_result"
    }
   ],
   "source": [
    "df.isna().apply(pd.value_counts)"
   ]
  },
  {
   "cell_type": "markdown",
   "metadata": {},
   "source": [
    "Now we look more closely for the number of null values"
   ]
  },
  {
   "cell_type": "code",
   "execution_count": 10,
   "metadata": {
    "scrolled": true
   },
   "outputs": [
    {
     "data": {
      "text/plain": [
       "iso_code                   1802\n",
       "country                       0\n",
       "year                          0\n",
       "coal_prod_change_pct       9987\n",
       "coal_prod_change_twh       7038\n",
       "                          ...  \n",
       "wind_share_energy         13148\n",
       "wind_cons_change_twh      13225\n",
       "wind_consumption          13142\n",
       "wind_elec_per_capita      11933\n",
       "wind_energy_per_capita    13142\n",
       "Length: 122, dtype: int64"
      ]
     },
     "execution_count": 10,
     "metadata": {},
     "output_type": "execute_result"
    }
   ],
   "source": [
    "df.isnull().sum()"
   ]
  },
  {
   "cell_type": "markdown",
   "metadata": {},
   "source": [
    "Especially in the renewable energy sector we have a lot of null values since it is a more recent technology and the data stretches back until 1901."
   ]
  },
  {
   "cell_type": "markdown",
   "metadata": {},
   "source": [
    "We have to keep this in mind to map the null values properly. Removing them fully would lead to a largely reduced data set with incomplete data.  df = df.dropna() --> results in a reduction from >17000 entries to 14.\n"
   ]
  },
  {
   "cell_type": "markdown",
   "metadata": {},
   "source": [
    "#### 3.2 Looking for empty rows\n",
    "Since we cannot remove single fields we can check for rows that might be completely empty. Those we can delete savely. From earlied we know that country and year are always present so we need to drop those two columns first before can look for empty rows, otherwise we would recieve no results."
   ]
  },
  {
   "cell_type": "code",
   "execution_count": 11,
   "metadata": {},
   "outputs": [
    {
     "name": "stdout",
     "output_type": "stream",
     "text": [
      "[]\n"
     ]
    }
   ],
   "source": [
    "temp_df = df.drop(columns=['country', 'year'])\n",
    "empty_row_indexes = temp_df.index[temp_df.isna().all(axis=1)].tolist()\n",
    "\n",
    "print (empty_row_indexes)"
   ]
  },
  {
   "cell_type": "markdown",
   "metadata": {},
   "source": [
    "There are no empty rows that we could drop."
   ]
  },
  {
   "cell_type": "markdown",
   "metadata": {},
   "source": [
    "#### 3.3 Looking for duplicated entries\n",
    "As our next step, we search for duplicate entries."
   ]
  },
  {
   "cell_type": "code",
   "execution_count": 12,
   "metadata": {},
   "outputs": [
    {
     "data": {
      "text/plain": [
       "0"
      ]
     },
     "execution_count": 12,
     "metadata": {},
     "output_type": "execute_result"
    }
   ],
   "source": [
    "df.duplicated().sum()"
   ]
  },
  {
   "cell_type": "markdown",
   "metadata": {},
   "source": [
    "0 means that there are no duplicate entries in our data set."
   ]
  },
  {
   "cell_type": "markdown",
   "metadata": {},
   "source": [
    "### 4. Logical cleaning of our data\n",
    "After we looked at the data set from a technical approach to identify the null values, to remove empty rows as well as duplicates we can start to logically clean our data. The maximum data we need is a view back the last 50 years.\n"
   ]
  },
  {
   "cell_type": "code",
   "execution_count": 13,
   "metadata": {},
   "outputs": [
    {
     "name": "stdout",
     "output_type": "stream",
     "text": [
      "Last year: 1969\n"
     ]
    }
   ],
   "source": [
    "target_year_cap = 2019 - 50;\n",
    "print('Last year: ' + str(target_year_cap))"
   ]
  },
  {
   "cell_type": "markdown",
   "metadata": {},
   "source": [
    "Thus we remove every entry that contains data that is older than 1969."
   ]
  },
  {
   "cell_type": "code",
   "execution_count": 14,
   "metadata": {},
   "outputs": [
    {
     "data": {
      "text/plain": [
       "(10825, 122)"
      ]
     },
     "execution_count": 14,
     "metadata": {},
     "output_type": "execute_result"
    }
   ],
   "source": [
    "wdf = df\n",
    "bigger_than_1950 = wdf['year'] >= target_year_cap\n",
    "wdf  = wdf[bigger_than_1950]\n",
    "\n",
    "wdf.shape"
   ]
  },
  {
   "cell_type": "markdown",
   "metadata": {},
   "source": [
    "As a result, we removed around 7000 entries that are not necessary for our analysis."
   ]
  },
  {
   "cell_type": "markdown",
   "metadata": {},
   "source": [
    "### 5. Analysis\n",
    "#### 5.1 What are the current top 5 electricity producing countries (total/per capita) out of biofuel / coal / gas / hydro/ nuclear /oil / solar / wind?\n",
    "##### 5.1.1 Countries that currently (2019) produce the most electricity in total (independent of type)\n"
   ]
  },
  {
   "cell_type": "code",
   "execution_count": 47,
   "metadata": {},
   "outputs": [
    {
     "name": "stderr",
     "output_type": "stream",
     "text": [
      "<ipython-input-47-f966c7c1e93b>:18: UserWarning: Boolean Series key will be reindexed to match DataFrame index.\n",
      "  df_511  = df_511[is_country]\n"
     ]
    }
   ],
   "source": [
    "cchina = (217/255, 4/255, 41/255)\n",
    "cusa =  (43/255, 45/255, 66/255)\n",
    "cindia = (45/255, 106/255, 79/255)\n",
    "crussia = (17/255, 138/255, 178/255)\n",
    "cjapan = (222/255, 226/255, 230/255)\n",
    "cfossil = (55/255,58/255, 54/255)\n",
    "cnuclear = (75/255,255/255,20/255)\n",
    "creneweable = (41/255, 182/255, 117/255)\n",
    "cother = (240/255, 175/255, 89/255)\n",
    "c511 = [cchina, cusa, cindia, crussia, cjapan]\n",
    "c511_stack = [cfossil, cnuclear, creneweable, cother]\n",
    "\n",
    "df_511 = wdf\n",
    "target_year_511 = 2019\n",
    "is_2019 =  df_511['year'] == target_year_511\n",
    "is_country = np.logical_and(df_511['iso_code'] != 'OWID_WRL', df_511['iso_code'].notnull())\n",
    "df_511  =  df_511[is_2019]\n",
    "df_511  = df_511[is_country]\n",
    "df_511_ref  =  df_511[['iso_code', 'country', 'electricity_generation', 'fossil_electricity', 'nuclear_electricity','renewables_electricity', 'other_renewable_electricity']]\n",
    "# select the top 5 - total\n",
    "df_511_electricity_total_5 = df_511_ref.nlargest(5, 'electricity_generation')"
   ]
  },
  {
   "cell_type": "code",
   "execution_count": 86,
   "metadata": {},
   "outputs": [
    {
     "data": {
      "text/plain": [
       "[Text(0, 0, '7326.7'),\n",
       " Text(0, 0, '4161.83'),\n",
       " Text(0, 0, '1378.17'),\n",
       " Text(0, 0, '1058.47'),\n",
       " Text(0, 0, '952.384')]"
      ]
     },
     "execution_count": 86,
     "metadata": {},
     "output_type": "execute_result"
    },
    {
     "data": {
      "image/png": "[encoded data removed]",
      "text/plain": [
       "<Figure size 1080x1080 with 1 Axes>"
      ]
     },
     "metadata": {
      "needs_background": "light"
     },
     "output_type": "display_data"
    }
   ],
   "source": [
    "ax = df_511_electricity_total_5.plot.bar(x='country', y='electricity_generation', color=c511, rot=0, legend=False, figsize=(15,15))\n",
    "ax.set_title('Top 5 countries by total electricity production in 2019')\n",
    "ax.set_ylabel('Elecricity Production in TWh')\n",
    "\n",
    "ax.bar_label(ax.containers[0], label_type='center', color= 'white')\n",
    "\n"
   ]
  },
  {
   "cell_type": "code",
   "execution_count": 85,
   "metadata": {},
   "outputs": [
    {
     "ename": "IndexError",
     "evalue": "list index out of range",
     "output_type": "error",
     "traceback": [
      "\u001b[1;31m---------------------------------------------------------------------------\u001b[0m",
      "\u001b[1;31mIndexError\u001b[0m                                Traceback (most recent call last)",
      "\u001b[1;32m<ipython-input-85-f7d13da838ff>\u001b[0m in \u001b[0;36m<module>\u001b[1;34m\u001b[0m\n\u001b[0;32m     12\u001b[0m \u001b[0max\u001b[0m\u001b[1;33m.\u001b[0m\u001b[0mbar_label\u001b[0m\u001b[1;33m(\u001b[0m\u001b[0max\u001b[0m\u001b[1;33m.\u001b[0m\u001b[0mcontainers\u001b[0m\u001b[1;33m[\u001b[0m\u001b[1;36m2\u001b[0m\u001b[1;33m]\u001b[0m\u001b[1;33m,\u001b[0m \u001b[0mlabel_type\u001b[0m\u001b[1;33m=\u001b[0m\u001b[1;34m'center'\u001b[0m\u001b[1;33m,\u001b[0m \u001b[0mcolor\u001b[0m\u001b[1;33m=\u001b[0m \u001b[1;34m'black'\u001b[0m\u001b[1;33m)\u001b[0m\u001b[1;33m\u001b[0m\u001b[1;33m\u001b[0m\u001b[0m\n\u001b[0;32m     13\u001b[0m \u001b[0max\u001b[0m\u001b[1;33m.\u001b[0m\u001b[0mbar_label\u001b[0m\u001b[1;33m(\u001b[0m\u001b[0max\u001b[0m\u001b[1;33m.\u001b[0m\u001b[0mcontainers\u001b[0m\u001b[1;33m[\u001b[0m\u001b[1;36m3\u001b[0m\u001b[1;33m]\u001b[0m\u001b[1;33m,\u001b[0m \u001b[0mlabel_type\u001b[0m\u001b[1;33m=\u001b[0m\u001b[1;34m'center'\u001b[0m\u001b[1;33m,\u001b[0m \u001b[0mcolor\u001b[0m\u001b[1;33m=\u001b[0m \u001b[1;34m'black'\u001b[0m\u001b[1;33m)\u001b[0m\u001b[1;33m\u001b[0m\u001b[1;33m\u001b[0m\u001b[0m\n\u001b[1;32m---> 14\u001b[1;33m \u001b[0max\u001b[0m\u001b[1;33m.\u001b[0m\u001b[0mbar_label\u001b[0m\u001b[1;33m(\u001b[0m\u001b[0max\u001b[0m\u001b[1;33m.\u001b[0m\u001b[0mcontainers\u001b[0m\u001b[1;33m[\u001b[0m\u001b[1;36m4\u001b[0m\u001b[1;33m]\u001b[0m\u001b[1;33m,\u001b[0m \u001b[0mlabel_type\u001b[0m\u001b[1;33m=\u001b[0m\u001b[1;34m'center'\u001b[0m\u001b[1;33m,\u001b[0m \u001b[0mcolor\u001b[0m\u001b[1;33m=\u001b[0m \u001b[1;34m'black'\u001b[0m\u001b[1;33m)\u001b[0m\u001b[1;33m\u001b[0m\u001b[1;33m\u001b[0m\u001b[0m\n\u001b[0m\u001b[0;32m     15\u001b[0m \u001b[1;33m\u001b[0m\u001b[0m\n",
      "\u001b[1;31mIndexError\u001b[0m: list index out of range"
     ]
    },
    {
     "data": {
      "image/png": "[encoded data removed]",
      "text/plain": [
       "<Figure size 1080x1080 with 1 Axes>"
      ]
     },
     "metadata": {
      "needs_background": "light"
     },
     "output_type": "display_data"
    }
   ],
   "source": [
    "# stack renewable and non renewable\n",
    "df_511_electricity_fossil_renweable_stacked = df_511_ref.nlargest(5, 'electricity_generation')\n",
    "df_511_electricity_fossil_renweable_stacked = df_511_electricity_fossil_renweable_stacked.drop(columns=['electricity_generation'])\n",
    "ax = df_511_electricity_fossil_renweable_stacked.plot.bar(x='country', rot=0, stacked=True, color=c511_stack, figsize=(15,15))\n",
    "ax.set_title('Top 5 countries by total electricity production in 2019 with separate electricity production sectors')\n",
    "ax.set_ylabel('Elecricity Production in TWh')\n",
    "\n",
    "#for container in ax.containers:\n",
    "    #ax.bar_label(container, label_type='center', color=\"black\")\n",
    "ax.bar_label(ax.containers[0], label_type='center', color= 'white')\n",
    "ax.bar_label(ax.containers[1], label_type='center', color= 'black')\n",
    "ax.bar_label(ax.containers[2], label_type='center', color= 'black')\n",
    "ax.bar_label(ax.containers[3], label_type='center', color= 'black')\n",
    "    "
   ]
  },
  {
   "cell_type": "code",
   "execution_count": 110,
   "metadata": {},
   "outputs": [
    {
     "data": {
      "text/plain": [
       "[Text(0, 0, '1.50%'),\n",
       " Text(0, 0, '1.72%'),\n",
       " Text(0, 0, '1.08%'),\n",
       " Text(0, 0, '0.35%'),\n",
       " Text(0, 0, '6.17%')]"
      ]
     },
     "execution_count": 110,
     "metadata": {},
     "output_type": "execute_result"
    },
    {
     "data": {
      "image/png": "[encoded data removed]",
      "text/plain": [
       "<Figure size 1080x1080 with 1 Axes>"
      ]
     },
     "metadata": {
      "needs_background": "light"
     },
     "output_type": "display_data"
    }
   ],
   "source": [
    "\n",
    "df_511_electricity_fossil_renweable_stacked_percentage = df_511_electricity_fossil_renweable_stacked.drop(['iso_code', 'country'], axis=1)\n",
    "df_511_electricity_fossil_renweable_stacked_percentage = df_511_electricity_fossil_renweable_stacked_percentage.apply(lambda x: x*100/sum(x), axis=1)\n",
    "df_511_electricity_fossil_renweable_stacked_percentage['country'] = ['China', 'United States', 'India', 'Russia', 'Japan']\n",
    "\n",
    "ax = df_511_electricity_fossil_renweable_stacked_percentage.plot.bar(x='country', rot=0, stacked=True, color=c511_stack, figsize=(15,15))\n",
    "ax.set_title('Top 5 countries by total electricity production in 2019 with separate electricity production sectors, aggregated as percentages')\n",
    "ax.set_ylabel('Elecricity Production in % of total')\n",
    "\n",
    "#for container in ax.containers:\n",
    "    #ax.bar_label(container, label_type='center', color=\"black\")\n",
    "ax.bar_label(ax.containers[0], label_type='center', color= 'white', fmt='%.2f%%')\n",
    "ax.bar_label(ax.containers[1], label_type='center', color= 'black', fmt='%.2f%%')\n",
    "ax.bar_label(ax.containers[2], label_type='center', color= 'black', fmt='%.2f%%')\n",
    "ax.bar_label(ax.containers[3], label_type='center', color= 'black', fmt='%.2f%%')"
   ]
  },
  {
   "cell_type": "markdown",
   "metadata": {},
   "source": [
    "##### 5.1.2 Countries that currently (2019) produce the most electricity out of biofuel"
   ]
  },
  {
   "cell_type": "code",
   "execution_count": 67,
   "metadata": {},
   "outputs": [
    {
     "data": {
      "image/png": "[encoded data removed]",
      "text/plain": [
       "<Figure size 432x288 with 1 Axes>"
      ]
     },
     "metadata": {
      "needs_background": "light"
     },
     "output_type": "display_data"
    }
   ],
   "source": [
    "df_512 = wdf\n",
    "target_year_512 = 2019\n",
    "is_2019 =  df_512['year'] == target_year_512\n",
    "is_country = np.logical_and(df_512['iso_code'] != 'OWID_WRL', df_512['iso_code'].notnull())\n",
    "df_512  =  df_512.loc[is_2019]\n",
    "df_512  =   df_512.loc[is_country]\n",
    "df_512_ref  =  df_512[['iso_code', 'country','biofuel_electricity']]\n",
    "df_512_biofuel_electricity = df_512_ref.nlargest(5, 'biofuel_electricity')\n",
    "ax = df_512_biofuel_electricity.plot.bar(x='country', rot=0, stacked=True)"
   ]
  },
  {
   "cell_type": "markdown",
   "metadata": {},
   "source": [
    "##### 5.1.3 Countries that currently (2019) produce the most  electricity out of coal"
   ]
  },
  {
   "cell_type": "code",
   "execution_count": null,
   "metadata": {
    "scrolled": true
   },
   "outputs": [],
   "source": [
    "df_513 = wdf\n",
    "target_year_513 = 2019\n",
    "is_2019 =  df_513['year'] == target_year_513\n",
    "is_country = np.logical_and(df_513['iso_code'] != 'OWID_WRL', df_513['iso_code'].notnull())\n",
    "df_513  =  df_513.loc[is_2019]\n",
    "df_513  =   df_513.loc[is_country]\n",
    "df_513_ref  =  df_513[['iso_code', 'country','coal_electricity']]\n",
    "df_513_coal_electricity = df_513_ref.nlargest(5, 'coal_electricity')\n",
    "ax = df_513_coal_electricity.plot.bar(x='country', rot=0, stacked=True)"
   ]
  },
  {
   "cell_type": "markdown",
   "metadata": {},
   "source": [
    "##### 5.1.4 Countries that currently (2019) produce the most electricity out of gas"
   ]
  },
  {
   "cell_type": "code",
   "execution_count": null,
   "metadata": {},
   "outputs": [],
   "source": [
    "df_514 = wdf\n",
    "target_year_514 = 2019\n",
    "is_2019 =  df_514['year'] == target_year_514\n",
    "is_country = np.logical_and(df_514['iso_code'] != 'OWID_WRL', df_514['iso_code'].notnull())\n",
    "df_514  =  df_514.loc[is_2019]\n",
    "df_514  =   df_514.loc[is_country]\n",
    "df_514_ref  =  df_514[['iso_code', 'country','gas_electricity']]\n",
    "df_514_gas_electricity = df_514_ref.nlargest(5, 'gas_electricity')\n",
    "ax = df_514_gas_electricity.plot.bar(x='country', rot=0, stacked=True)"
   ]
  },
  {
   "cell_type": "markdown",
   "metadata": {},
   "source": [
    "##### 5.1.5 Countries that currently (2019) produce the most electricity out of hydro"
   ]
  },
  {
   "cell_type": "code",
   "execution_count": null,
   "metadata": {},
   "outputs": [],
   "source": [
    "df_515 = wdf\n",
    "target_year_515 = 2019\n",
    "is_2019 =  df_515['year'] == target_year_515\n",
    "is_country = np.logical_and(df_515['iso_code'] != 'OWID_WRL', df_515['iso_code'].notnull())\n",
    "df_515  =  df_515.loc[is_2019]\n",
    "df_515  =   df_515.loc[is_country]\n",
    "df_515_ref  =  df_515[['iso_code', 'country','hydro_electricity']]\n",
    "df_515_hyrdo_electricity = df_515_ref.nlargest(5, 'hydro_electricity')\n",
    "ax = df_515_hyrdo_electricity.plot.bar(x='country', rot=0, stacked=True)"
   ]
  },
  {
   "cell_type": "markdown",
   "metadata": {},
   "source": [
    "##### 5.1.6 Countries that currently (2019) produce the most electricity out of nuclear"
   ]
  },
  {
   "cell_type": "code",
   "execution_count": null,
   "metadata": {},
   "outputs": [],
   "source": [
    "df_516 = wdf\n",
    "target_year_516 = 2019\n",
    "is_2019 =  df_516['year'] == target_year_516\n",
    "is_country = np.logical_and(df_516['iso_code'] != 'OWID_WRL', df_516['iso_code'].notnull())\n",
    "df_516  =  df_516.loc[is_2019]\n",
    "df_516  =   df_516.loc[is_country]\n",
    "df_516_ref  =  df_516[['iso_code', 'country','nuclear_electricity']]\n",
    "df_516_nuclear_electricity = df_516_ref.nlargest(5, 'nuclear_electricity')\n",
    "ax = df_516_nuclear_electricity.plot.bar(x='country', rot=0, stacked=True)"
   ]
  },
  {
   "cell_type": "markdown",
   "metadata": {},
   "source": [
    "##### 5.1.7 Countries that currently (2019) produce the most electricity out of oil"
   ]
  },
  {
   "cell_type": "code",
   "execution_count": null,
   "metadata": {},
   "outputs": [],
   "source": [
    "df_517 = wdf\n",
    "target_year_517 = 2019\n",
    "is_2019 =  df_517['year'] == target_year_517\n",
    "is_country = np.logical_and(df_517['iso_code'] != 'OWID_WRL', df_517['iso_code'].notnull())\n",
    "df_517  =  df_517.loc[is_2019]\n",
    "df_517  =   df_517.loc[is_country]\n",
    "df_517_ref  =  df_517[['iso_code', 'country','oil_electricity']]\n",
    "df_517_oil_electricity = df_517_ref.nlargest(5, 'oil_electricity')\n",
    "ax = df_517_oil_electricity.plot.bar(x='country', rot=0, stacked=True)"
   ]
  },
  {
   "cell_type": "markdown",
   "metadata": {},
   "source": [
    "##### 5.1.8 Countries that currently (2019) produce the most electricity out of solar"
   ]
  },
  {
   "cell_type": "code",
   "execution_count": null,
   "metadata": {},
   "outputs": [],
   "source": [
    "df_518 = wdf\n",
    "target_year_518 = 2019\n",
    "is_2019 =  df_518['year'] == target_year_518\n",
    "is_country = np.logical_and(df_518['iso_code'] != 'OWID_WRL', df_518['iso_code'].notnull())\n",
    "df_518  =  df_518.loc[is_2019]\n",
    "df_518  =   df_518.loc[is_country]\n",
    "df_518_ref  =  df_518[['iso_code', 'country','solar_electricity']]\n",
    "df_518_solar_electricity = df_518_ref.nlargest(5, 'solar_electricity')\n",
    "ax = df_518_solar_electricity.plot.bar(x='country', rot=0, stacked=True)"
   ]
  },
  {
   "cell_type": "markdown",
   "metadata": {},
   "source": [
    "##### 5.1.9 Countries that currently (2019) produce the most electricity out of wind"
   ]
  },
  {
   "cell_type": "code",
   "execution_count": null,
   "metadata": {
    "scrolled": true
   },
   "outputs": [],
   "source": [
    "df_519 = wdf\n",
    "target_year_519 = 2019\n",
    "is_2019 =  df_519['year'] == target_year_519\n",
    "is_country = np.logical_and(df_519['iso_code'] != 'OWID_WRL', df_519['iso_code'].notnull())\n",
    "df_519  =  df_519.loc[is_2019]\n",
    "df_519  =   df_519.loc[is_country]\n",
    "df_519_ref  =  df_519[['iso_code', 'country','wind_electricity']]\n",
    "df_519_wind_electricity = df_519_ref.nlargest(5, 'wind_electricity')\n",
    "ax = df_519_wind_electricity.plot.bar(x='country', rot=0, stacked=True)"
   ]
  },
  {
   "cell_type": "markdown",
   "metadata": {},
   "source": [
    "##### 5.2.1 Countries that currently (2019) consume the most electricity (independent of type)\n"
   ]
  },
  {
   "cell_type": "code",
   "execution_count": null,
   "metadata": {},
   "outputs": [],
   "source": [
    "## converts twh to kwh\n",
    "def convert(kwh):\n",
    "    return kwh / 1000000000\n",
    "\n",
    "\n",
    "def aggregate(pop, per_cap):\n",
    "    result = [None] * per_cap.size\n",
    "    for x in range(len(result)):\n",
    "        result[x] = pop[x] * per_cap[x]\n",
    "    return list(map(convert, result))"
   ]
  },
  {
   "cell_type": "code",
   "execution_count": null,
   "metadata": {
    "scrolled": true
   },
   "outputs": [],
   "source": [
    "df_521 = wdf\n",
    "target_year_521 = 2019\n",
    "is_2019 =  df_521['year'] == target_year_521\n",
    "is_country = np.logical_and(df_521['iso_code'] != 'OWID_WRL', df_521['iso_code'].notnull())\n",
    "df_521  =  df_521[is_2019]\n",
    "df_521  = df_521[is_country]\n",
    "# arrays per capita x  population\n",
    "country = df_521['country'].to_numpy()\n",
    "population = df_521['population'].to_numpy()\n",
    "per_cap_elec = df_521['per_capita_electricity'].to_numpy()\n",
    "per_cap_bio = df_521['biofuel_elec_per_capita'].to_numpy()\n",
    "per_cap_coal = df_521['coal_elec_per_capita'].to_numpy()\n",
    "per_cap_gas = df_521['gas_elec_per_capita'].to_numpy()\n",
    "per_cap_hydro = df_521['hydro_elec_per_capita'].to_numpy()\n",
    "per_cap_nuc = df_521['nuclear_elec_per_capita'].to_numpy()\n",
    "per_cap_oil = df_521['oil_elec_per_capita'].to_numpy()\n",
    "per_cap_sol = df_521['solar_elec_per_capita'].to_numpy()\n",
    "per_cap_wind = df_521['wind_elec_per_capita'].to_numpy()\n",
    "per_cap_other = df_521['other_renewables_elec_per_capita'].to_numpy()\n",
    "\n",
    "## TOTAL\n",
    "# create array for total electricity consumption\n",
    "total_elec = aggregate(population, per_cap_elec)\n",
    "\n",
    "## BIOFUEL\n",
    "## create array for total biofuel elec consumption\n",
    "total_elec_bio = aggregate(population, per_cap_bio)\n",
    "\n",
    "## COAL\n",
    "## create array for total coal elec consumption\n",
    "total_elec_coal = aggregate(population, per_cap_coal)\n",
    "\n",
    "## GAS\n",
    "## create array for total gas elec consumption\n",
    "total_elec_gas = aggregate(population, per_cap_gas)\n",
    "\n",
    "## HYDRO\n",
    "## create array for total gas elec consumption\n",
    "total_elec_hydro = aggregate(population, per_cap_hydro)\n",
    "\n",
    "## NUCLEAR\n",
    "## create array for total gas elec consumption\n",
    "total_elec_nuc = aggregate(population, per_cap_nuc)\n",
    "\n",
    "## OIL\n",
    "## create array for total gas elec consumption\n",
    "total_elec_oil = aggregate(population, per_cap_oil)\n",
    "\n",
    "## SOLAR\n",
    "## create array for total gas elec consumption\n",
    "total_elec_sol = aggregate(population, per_cap_sol)\n",
    "\n",
    "## WIND\n",
    "## create array for total gas elec consumption\n",
    "total_elec_wind = aggregate(population, per_cap_wind)\n",
    "\n",
    "## OTHER\n",
    "## create array for total gas elec consumption\n",
    "total_elec_other = aggregate(population, per_cap_other)\n",
    "# remove duplicates from other and biofuel\n",
    "\n",
    "dict = {\n",
    "        'country': country, 'pop': population, \n",
    "        'total_elec': total_elec, \n",
    "        'total_elec_bio': total_elec_bio,\n",
    "        'total_elec_coal': total_elec_coal,\n",
    "        'total_elec_gas': total_elec_gas,\n",
    "        'total_elec_hydro': total_elec_hydro,\n",
    "        'total_elec_nuc': total_elec_nuc,\n",
    "        'total_elec_oil': total_elec_oil,\n",
    "        'total_elec_sol': total_elec_sol,\n",
    "        'total_elec_wind': total_elec_wind,\n",
    "}\n",
    "pd.set_option('display.max_columns', None)\n",
    "df_521_ref = pd.DataFrame(dict)\n",
    "\n",
    "# add new data set columns\n",
    "df_521_total_elec = df_521_ref.nlargest(5, 'total_elec')\n",
    "\n",
    "ax = df_521_total_elec.plot.bar(x='country', y='total_elec', rot=0, figsize=(10,5))"
   ]
  },
  {
   "cell_type": "code",
   "execution_count": null,
   "metadata": {
    "scrolled": true
   },
   "outputs": [],
   "source": [
    "# stack renewable and non renewable\n",
    "df_521_total_elec_per_cap_5_stacked = df_521_ref.nlargest(5, 'total_elec')\n",
    "df_521_total_elec_per_cap_5_stacked = df_521_total_elec_per_cap_5_stacked.drop(columns=['pop', 'total_elec'])\n",
    "ax = df_521_total_elec_per_cap_5_stacked.plot.bar(x='country', rot=0, stacked=True)\n",
    "\n"
   ]
  },
  {
   "cell_type": "markdown",
   "metadata": {},
   "source": [
    "##### 5.2.2 Countries that currently (2019) consume the most electricity out of biofuel"
   ]
  },
  {
   "cell_type": "code",
   "execution_count": null,
   "metadata": {},
   "outputs": [],
   "source": [
    "df_522 = df_521_ref\n",
    "df_522_ref  =  df_522[['country', 'total_elec_bio']]\n",
    "# select the top 5 - biofuel\n",
    "df_522_biofuel_5 = df_522_ref.nlargest(5, 'total_elec_bio')\n",
    "ax = df_522_biofuel_5.plot.bar(x='country', y='total_elec_bio', rot=0, figsize=(10,5))"
   ]
  },
  {
   "cell_type": "markdown",
   "metadata": {},
   "source": [
    "##### 5.2.3 Countries that currently (2019) consume the most electricity out of coal"
   ]
  },
  {
   "cell_type": "code",
   "execution_count": null,
   "metadata": {
    "scrolled": true
   },
   "outputs": [],
   "source": [
    "df_523 = df_521_ref\n",
    "df_523_ref  =  df_523[['country', 'total_elec_coal']]\n",
    "# select the top 5 - coal\n",
    "df_523_coal_5 = df_523_ref.nlargest(5, 'total_elec_coal')\n",
    "ax = df_523_coal_5.plot.bar(x='country', y='total_elec_coal', rot=0, figsize=(10,5))"
   ]
  },
  {
   "cell_type": "markdown",
   "metadata": {},
   "source": [
    "##### 5.2.4 Countries that currently (2019) consume the most electricity per capita out of gas"
   ]
  },
  {
   "cell_type": "code",
   "execution_count": null,
   "metadata": {},
   "outputs": [],
   "source": [
    "df_524 = df_521_ref\n",
    "df_524_ref  =  df_524[['country', 'total_elec_gas']]\n",
    "# select the top 5 - coal\n",
    "df_524_gas_5 = df_524_ref.nlargest(5, 'total_elec_gas')\n",
    "ax = df_524_gas_5.plot.bar(x='country', y='total_elec_gas', rot=0, figsize=(10,5))"
   ]
  },
  {
   "cell_type": "markdown",
   "metadata": {},
   "source": [
    "##### 5.2.5 Countries that currently (2019) consume the most electricity per capita out of hyrdo"
   ]
  },
  {
   "cell_type": "code",
   "execution_count": null,
   "metadata": {
    "scrolled": true
   },
   "outputs": [],
   "source": [
    "df_525 = df_521_ref\n",
    "df_525_ref  =  df_525[['country', 'total_elec_hydro']]\n",
    "# select the top 5 - coal\n",
    "df_525_hydro_5 = df_525_ref.nlargest(5, 'total_elec_hydro')\n",
    "ax = df_525_hydro_5.plot.bar(x='country', y='total_elec_hydro', rot=0, figsize=(10,5))"
   ]
  },
  {
   "cell_type": "markdown",
   "metadata": {},
   "source": [
    "##### 5.2.6 Countries that currently (2019) consume the most electricity per capita out of nuclear"
   ]
  },
  {
   "cell_type": "code",
   "execution_count": null,
   "metadata": {},
   "outputs": [],
   "source": [
    "df_526 = df_521_ref\n",
    "df_526_ref  =  df_526[['country', 'total_elec_nuc']]\n",
    "# select the top 5 - coal\n",
    "df_526_nuc_5 = df_526_ref.nlargest(5, 'total_elec_nuc')\n",
    "ax = df_526_nuc_5.plot.bar(x='country', y='total_elec_nuc', rot=0, figsize=(10,5))"
   ]
  },
  {
   "cell_type": "markdown",
   "metadata": {},
   "source": [
    "##### 5.2.7 Countries that currently (2019) consume the most electricity per capita out of oil"
   ]
  },
  {
   "cell_type": "code",
   "execution_count": null,
   "metadata": {},
   "outputs": [],
   "source": [
    "df_527 = df_521_ref\n",
    "df_527_ref  =  df_527[['country', 'total_elec_oil']]\n",
    "# select the top 5 - coal\n",
    "df_527_oil_5 = df_527_ref.nlargest(5, 'total_elec_oil')\n",
    "ax = df_527_oil_5.plot.bar(x='country', y='total_elec_oil', rot=0, figsize=(10,5))"
   ]
  },
  {
   "cell_type": "markdown",
   "metadata": {},
   "source": [
    "##### 5.2.8 Countries that currently (2019) consume the most electricity per capita out of solar"
   ]
  },
  {
   "cell_type": "code",
   "execution_count": null,
   "metadata": {},
   "outputs": [],
   "source": [
    "df_528 = df_521_ref\n",
    "df_528_ref  =  df_528[['country', 'total_elec_sol']]\n",
    "# select the top 5 - coal\n",
    "df_528_sol_5 = df_528_ref.nlargest(5, 'total_elec_sol')\n",
    "ax = df_528_sol_5.plot.bar(x='country', y='total_elec_sol', rot=0, figsize=(10,5))"
   ]
  },
  {
   "cell_type": "markdown",
   "metadata": {},
   "source": [
    "##### 5.2.9 Countries that currently (2019) consume the most electricity per capita out of wind"
   ]
  },
  {
   "cell_type": "code",
   "execution_count": null,
   "metadata": {},
   "outputs": [],
   "source": [
    "df_529 = df_521_ref\n",
    "df_529_ref  =  df_529[['country', 'total_elec_wind']]\n",
    "# select the top 5 - coal\n",
    "df_529_wind_5 = df_529_ref.nlargest(5, 'total_elec_wind')\n",
    "ax = df_529_wind_5.plot.bar(x='country', y='total_elec_wind', rot=0, figsize=(10,5))"
   ]
  },
  {
   "cell_type": "markdown",
   "metadata": {},
   "source": [
    "## Short summary of variables and their info with 2019 year data\n",
    "\n",
    "### Production of electricity:\n",
    "- df_511_ref: list of all countries and their total production of electricity\n",
    "- df_511_electricity_total_5: top 5 countries ordered by their total electricity generation\n",
    "- df_512_ref : list of all countries and their total biofuel electricity production\n",
    "- df_512_biofuel_electricity: top 5 countries ordered by their total electricity production out of biofuel\n",
    "- df_513_ref : list of all countries and their total coal electricity production\n",
    "- df_513_coal_electricity: top 5 countries ordered by their total electrocity production out of coal\n",
    "- df_514_ref : list of all countries and their total gas electricity production\n",
    "- df_514_gas_electricity:  top 5 countries ordered by their total electrocity production out of gas\n",
    "- df_515_ref: list of all countries and their total hydro electricity production\n",
    "- df_515_hyrdo_electricity: top 5 countries ordered by their total electrocity production out of hydro\n",
    "- df_516_ref: list of all countries and their total nuclear electricity production\n",
    "- df_516_nuclear_electricity: top 5 countries ordered by their total electrocity production out of nuclear\n",
    "- df_517_ref: list of all countries and their total oil electricity production\n",
    "- df_517_oil_electricity: top 5 countries ordered by their total electrocity production out of oil\n",
    "- df_518_ref: list of all countries and their total solar electricity production\n",
    "- df_518_solar_electricity: top 5 countries ordered by their total electrocity production out of solar\n",
    "- df_519_ref: list of all countries and their total wind electricity production\n",
    "- df_519_wind_electricity: r total electrocity production out of wind\n",
    "\n",
    "### Consumption of electricity:\n",
    "- df_521_ref: list of all countries and their total consumption of electricity\n",
    "- df_521_total_elec: top 5 countries ordered by their total electricity consumption\n",
    "- df_522_ref: all countries and their total biofuel electricity consumption\n",
    "- df_522_biofuel_5: top 5 countries ordered by their total electricity consumption that was generated with biofuel\n",
    "- df_523_ref: all countries and their total coal electricity consumption\n",
    "- df_523_coal_5: top 5 countries ordered by their total electricity consumption that was generated with coal\n",
    "- df_524_ref: all countries and their total gas electricity consumption\n",
    "- df_524_gas_5: top 5 countries ordered by their total electricity consumption that was generated with gas\n",
    "- df_525_ref: all countries and their total hydro electricity consumption\n",
    "- df_525_hyrdo_5:  top 5 countries ordered by their total electricity consumption that was generated with hydro\n",
    "- df_526_ref: all countries and their total nuclear electricity consumption\n",
    "- df_526_nuc_5: top 5 countries ordered by their total electricity consumption that was generated with nuclear\n",
    "- df_527_ref: all countries and their total oil electricity consumption\n",
    "- df_527_oil_5: top 5 countries ordered by their total electricity consumption that was generated with oil\n",
    "- df_528_ref: all countries and their total solar electricity consumption\n",
    "- df_528_sol_5: top 5 countries ordered by their total electricity consumption that was generated with solar\n",
    "- df_529_ref: all countries and their total wind electricity consumption\n",
    "- df_529_wind_5: top 5 countries ordered by their total electricity consumption that was generated with wind"
   ]
  },
  {
   "cell_type": "markdown",
   "metadata": {},
   "source": [
    "### 5.3 What is the overall development of energy production within the last 30 years?"
   ]
  },
  {
   "cell_type": "markdown",
   "metadata": {},
   "source": [
    "#### Worldwide"
   ]
  },
  {
   "cell_type": "code",
   "execution_count": null,
   "metadata": {},
   "outputs": [],
   "source": [
    "df_53 = wdf\n",
    "# first only world data\n",
    "df_53 = df_53[df_53['iso_code'] == 'OWID_WRL']\n",
    "# remove year 2020 - empty\n",
    "df_53 = df_53[df_53['year'] != '2020']\n",
    "df_53.plot.line(x='year', y=[ 'electricity_generation', 'fossil_electricity', 'nuclear_electricity','renewables_electricity', 'other_renewable_electricity'], figsize=(15,10))"
   ]
  },
  {
   "cell_type": "markdown",
   "metadata": {},
   "source": [
    "#### Europe"
   ]
  },
  {
   "cell_type": "code",
   "execution_count": null,
   "metadata": {},
   "outputs": [],
   "source": [
    "# Europe\n",
    "df_53 = wdf\n",
    "df_53 = df_53[df_53['country'] == 'Europe']\n",
    "df_53_eu = df_53[['year','country','electricity_generation']];\n",
    "df_53_eu.reset_index(drop=True, inplace=True)\n",
    "# remove year 2020 - empty\n",
    "df_53 = df_53[df_53['year'] != '2020']\n",
    "df_53.plot.line(x='year', y=[ 'electricity_generation', 'fossil_electricity', 'nuclear_electricity','renewables_electricity', 'other_renewable_electricity'], figsize=(15,10))"
   ]
  },
  {
   "cell_type": "markdown",
   "metadata": {},
   "source": [
    "#### Africa"
   ]
  },
  {
   "cell_type": "code",
   "execution_count": null,
   "metadata": {
    "scrolled": true
   },
   "outputs": [],
   "source": [
    "# Africa\n",
    "df_53 = wdf\n",
    "df_53 = df_53[df_53['country'] == 'Africa']\n",
    "df_53_af = df_53[['year','country','electricity_generation']];\n",
    "df_53_af.reset_index(drop=True, inplace=True)\n",
    "# remove year 2020 - empty\n",
    "df_53 = df_53[df_53['year'] != '2020']\n",
    "df_53.plot.line(x='year', y=[ 'electricity_generation', 'fossil_electricity', 'nuclear_electricity','renewables_electricity', 'other_renewable_electricity'], figsize=(15,10))"
   ]
  },
  {
   "cell_type": "markdown",
   "metadata": {},
   "source": [
    "#### Asia Pacific"
   ]
  },
  {
   "cell_type": "code",
   "execution_count": null,
   "metadata": {
    "scrolled": true
   },
   "outputs": [],
   "source": [
    "# Asia Pacific\n",
    "df_53 = wdf\n",
    "df_53 = df_53[df_53['country'] == 'Asia Pacific']\n",
    "df_53_ap = df_53[['year','country','electricity_generation']];\n",
    "df_53_ap.reset_index(drop=True, inplace=True)\n",
    "# remove year 2020 - empty\n",
    "df_53 = df_53[df_53['year'] != '2020']\n",
    "df_53.plot.line(x='year', y=[ 'electricity_generation', 'fossil_electricity', 'nuclear_electricity','renewables_electricity', 'other_renewable_electricity'], figsize=(15,10))"
   ]
  },
  {
   "cell_type": "markdown",
   "metadata": {},
   "source": [
    "#### North America"
   ]
  },
  {
   "cell_type": "code",
   "execution_count": null,
   "metadata": {},
   "outputs": [],
   "source": [
    "# North America\n",
    "df_53 = wdf\n",
    "df_53 = df_53[df_53['country'] == 'North America']\n",
    "df_53_na = df_53[['year', 'country','electricity_generation']];\n",
    "df_53_na.reset_index(drop=True, inplace=True)\n",
    "# remove year 2020 - empty\n",
    "df_53 = df_53[df_53['year'] != '2020']\n",
    "df_53.plot.line(x='year', y=[ 'electricity_generation', 'fossil_electricity', 'nuclear_electricity','renewables_electricity', 'other_renewable_electricity'], figsize=(15,10))"
   ]
  },
  {
   "cell_type": "markdown",
   "metadata": {},
   "source": [
    "#### Central and Sourth America"
   ]
  },
  {
   "cell_type": "code",
   "execution_count": null,
   "metadata": {},
   "outputs": [],
   "source": [
    "# Central and south america\n",
    "df_53 = wdf\n",
    "df_53 = df_53[df_53['country'] == 'South & Central America']\n",
    "df_53_sca = df_53[['year','country','electricity_generation']];\n",
    "df_53_sca.reset_index(drop=True, inplace=True)\n",
    "# remove year 2020 - empty\n",
    "df_53 = df_53[df_53['year'] != '2020']\n",
    "df_53.plot.line(x='year', y=[ 'electricity_generation', 'fossil_electricity', 'nuclear_electricity','renewables_electricity', 'other_renewable_electricity'], figsize=(15,10))"
   ]
  },
  {
   "cell_type": "markdown",
   "metadata": {},
   "source": [
    "#### World, Europe, Africa, Asia Pacific, North America and Central & South America energy production trends"
   ]
  },
  {
   "cell_type": "code",
   "execution_count": null,
   "metadata": {},
   "outputs": [],
   "source": [
    "continent_data_consolidated = [df_53_eu['year'], df_53_eu['electricity_generation'], df_53_af['electricity_generation'],df_53_ap['electricity_generation'],\n",
    "              df_53_na['electricity_generation'], df_53_sca['electricity_generation']]\n",
    "headers = ['year','eu_total_elec_prod', 'af_total_elec_prod', 'ap_total_elec_prod', 'na_total_elec_prod', 'sca_total_elec_prod']\n",
    "\n",
    "df_53_continent_total_elec_prod = pd.concat(continent_data_consolidated, axis=1, keys=headers)\n",
    "df_53_continent_total_elec_prod.plot.line(x='year', figsize=(15,10))\n"
   ]
  },
  {
   "cell_type": "markdown",
   "metadata": {},
   "source": [
    "#### World, Europe, Africa, Asia Pacific, North America and Central & South America energy production trends, with china extra"
   ]
  },
  {
   "cell_type": "code",
   "execution_count": null,
   "metadata": {},
   "outputs": [],
   "source": [
    "# extract china\n",
    "df_53_china = wdf\n",
    "is_china = np.logical_and(df_53_china['country'] == 'China', df_53_china['year'] >= 1969)\n",
    "df_53_china = df_53_china[is_china]\n",
    "df_53_china = df_53_china[['year','country','electricity_generation']];\n",
    "df_53_china.reset_index(drop=True, inplace=True)\n",
    "df_53_continent_total_elec_prod_with_china = df_53_continent_total_elec_prod\n",
    "df_53_continent_total_elec_prod_with_china['total_elec_china'] = df_53_china['electricity_generation']\n",
    "df_53_continent_total_elec_prod_with_china['ap_total_elec_wo_china'] = df_53_continent_total_elec_prod_with_china['ap_total_elec_prod']- df_53_continent_total_elec_prod_with_china['total_elec_china']\n",
    "df_53_continent_total_elec_prod_with_china.plot.line(x='year', y=['eu_total_elec_prod', 'af_total_elec_prod', 'na_total_elec_prod', 'sca_total_elec_prod', 'total_elec_china', 'ap_total_elec_wo_china'], figsize=(15,10))\n",
    "\n",
    "df_53_continent_total_elec_prod_with_china['china_percentage'] = df_53_continent_total_elec_prod_with_china['total_elec_china'] / df_53_continent_total_elec_prod_with_china['ap_total_elec_prod']"
   ]
  },
  {
   "cell_type": "code",
   "execution_count": null,
   "metadata": {},
   "outputs": [],
   "source": [
    "df_53_continent_total_elec_prod_with_china['china_percentage'] = df_53_continent_total_elec_prod_with_china['total_elec_china'] / df_53_continent_total_elec_prod_with_china['ap_total_elec_prod']\n",
    "\n",
    "sum_china = df_53_continent_total_elec_prod_with_china['total_elec_china'].sum()\n",
    "sum_ap =  df_53_continent_total_elec_prod_with_china['ap_total_elec_prod'].sum() - sum_china\n",
    "\n",
    "china_ap_distribution = pd.DataFrame({'Total Electricity Production from 1985 - 2019': [sum_china, sum_ap]}, index=['China', 'Rest of Pacific Asia'])\n",
    "china_ap_distribution_plot = china_ap_distribution.plot.pie(y='Total Electricity Production from 1985 - 2019', figsize=(15, 10))"
   ]
  },
  {
   "cell_type": "code",
   "execution_count": null,
   "metadata": {},
   "outputs": [],
   "source": []
  },
  {
   "cell_type": "code",
   "execution_count": null,
   "metadata": {},
   "outputs": [],
   "source": []
  },
  {
   "cell_type": "code",
   "execution_count": null,
   "metadata": {},
   "outputs": [],
   "source": []
  },
  {
   "cell_type": "code",
   "execution_count": null,
   "metadata": {},
   "outputs": [],
   "source": []
  },
  {
   "cell_type": "code",
   "execution_count": null,
   "metadata": {},
   "outputs": [],
   "source": []
  }
 ],
 "metadata": {
  "kernelspec": {
   "display_name": "Python 3",
   "language": "python",
   "name": "python3"
  },
  "language_info": {
   "codemirror_mode": {
    "name": "ipython",
    "version": 3
   },
   "file_extension": ".py",
   "mimetype": "text/x-python",
   "name": "python",
   "nbconvert_exporter": "python",
   "pygments_lexer": "ipython3",
   "version": "3.8.5"
  }
 },
 "nbformat": 4,
 "nbformat_minor": 4
}
